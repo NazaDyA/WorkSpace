{
 "cells": [
  {
   "cell_type": "code",
   "execution_count": 114,
   "metadata": {},
   "outputs": [],
   "source": [
    "import pandas as pd\n",
    "url1 = r\"C:\\Users\\agosa\\OneDrive\\Documents\\GitHub\\WorkSpace\\join-tables-5-11\\data\\hol_listado_empresas.xlsx\"\n",
    "url2 = r\"C:\\Users\\agosa\\OneDrive\\Documents\\GitHub\\WorkSpace\\join-tables-5-11\\data\\Activa_listado.xlsx\"\n",
    "df1 = pd.read_excel(url1)\n",
    "df2 = pd.read_excel(url2,sheet_name=1)\n"
   ]
  },
  {
   "cell_type": "code",
   "execution_count": 115,
   "metadata": {},
   "outputs": [],
   "source": [
    "#modules\n",
    "\n",
    "\n",
    "def cleanString(x:str):\n",
    "    x = x.split(\" \")\n",
    "    rt = []\n",
    "    for i in x:\n",
    "        if len(i)<=4:\n",
    "            continue\n",
    "        else:\n",
    "            rt.append(i)\n",
    "\n",
    "    return \"\".join(rt).strip()\n",
    "def str_clean(x):\n",
    "    data = []\n",
    "    index = 0\n",
    "\n",
    "    for i in x:\n",
    "        if i == \"_\" or i== \"-\":\n",
    "            continue\n",
    "        else:\n",
    "            data.append(i)\n",
    "    return \"\".join(data)\n",
    "def getNumber(x:str):\n",
    "    x = x.strip()\n",
    "    x = x.split()\n",
    "    return x[-1]\n",
    "import re\n",
    "def digitStract(x:str):\n",
    "    try:\n",
    "        return re.findall(r'\\d+', x)[0]\n",
    "    except:\n",
    "        return \"0000\""
   ]
  },
  {
   "cell_type": "code",
   "execution_count": 116,
   "metadata": {},
   "outputs": [],
   "source": [
    "df2[\"UniqueId\"] = df2[\"DIRECCIÓN\"].map(digitStract) + \"-\"+ df2[\"CUIT\"].astype(str)\n",
    "\n",
    "df1[\"cuitempresa\"] = df1[\"cuitempresa\"].map(str_clean)\n",
    "df1.columns = ['id_tramite', 'FechaHabAprobada', 'Calle', 'Numero', 'Barrio',\n",
    "       'FechaVencimientoHab', 'CUIT', 'razonsocial', 'NombreFantasia',\n",
    "       'RubroNombre']\n",
    "df1[\"UniqueId\"] = df1[\"Numero\"].map(digitStract) + \"-\"+ df1[\"CUIT\"].astype(str)\n",
    "\n",
    "\n",
    "\n",
    "df1[\"CUIT\"] = df1[\"CUIT\"].map(str_clean)\n",
    "df2[\"CUIT\"] = df2[\"CUIT\"].map(lambda x: str(x)).map(str_clean)"
   ]
  },
  {
   "cell_type": "code",
   "execution_count": 117,
   "metadata": {},
   "outputs": [
    {
     "name": "stderr",
     "output_type": "stream",
     "text": [
      "C:\\Users\\agosa\\AppData\\Local\\Temp\\ipykernel_13024\\726270673.py:19: SettingWithCopyWarning: \n",
      "A value is trying to be set on a copy of a slice from a DataFrame\n",
      "\n",
      "See the caveats in the documentation: https://pandas.pydata.org/pandas-docs/stable/user_guide/indexing.html#returning-a-view-versus-a-copy\n",
      "  df1[\"last-date\"][i] = locationDate[r]\n"
     ]
    }
   ],
   "source": [
    "#extract last date\n",
    "df1[\"location-ID\"] = df1[\"Calle\"] + \" \" + df1[\"Numero\"].astype(str) + \" \" + df1[\"CUIT\"].astype(str)\n",
    "df1[\"FechaVencimientoHab\"] = df1[\"FechaVencimientoHab\"].astype(\"datetime64[D]\")\n",
    "df1[\"last-date\"] = 0\n",
    "\n",
    "locationDate = {}\n",
    "\n",
    "for i in df1[\"location-ID\"].unique():\n",
    "    subset = df1[df1[\"location-ID\"] == i]\n",
    "    if subset[\"FechaVencimientoHab\"].max():\n",
    "        locationDate[i] = subset[\"FechaVencimientoHab\"].max()\n",
    "    else:\n",
    "        locationDate[i] = subset[\"FechaVencimientoHab\"][0]\n",
    "locationDate\n",
    "\n",
    "for i in range(len(df1)):\n",
    "    r = df1[\"location-ID\"][i]\n",
    "    if r in locationDate.keys():\n",
    "        df1[\"last-date\"][i] = locationDate[r]\n"
   ]
  },
  {
   "cell_type": "code",
   "execution_count": 118,
   "metadata": {},
   "outputs": [],
   "source": [
    "#merge// Inner\n",
    "df = pd.merge(df2, df1, on='UniqueId')\n",
    "dfIn = df.drop_duplicates(subset=['ID'])\n",
    "\n",
    "dfIn.to_excel(r\"C:\\Users\\agosa\\OneDrive\\Documents\\GitHub\\WorkSpace\\join-tables-5-11\\data\\data-dir.xlsx\")\n",
    "\n",
    "#merge cuit\n",
    "\n",
    "df = pd.merge(df2, df1, on='CUIT')\n",
    "dfCit = df.drop_duplicates(subset=['ID'])\n",
    "\n",
    "dfIn.to_excel(r\"C:\\Users\\agosa\\OneDrive\\Documents\\GitHub\\WorkSpace\\join-tables-5-11\\data\\data-cuit.xlsx\")\n"
   ]
  },
  {
   "cell_type": "code",
   "execution_count": 119,
   "metadata": {},
   "outputs": [
    {
     "data": {
      "text/plain": [
       "Index(['RUBRO', 'SUB-RUBRO', 'NOMBRE DE FANTASIA', 'DIRECCIÓN', 'RAZON SOCIAL',\n",
       "       'N° COMERCIO', 'CUIT', 'LATITUD', 'LONGITUD', 'CPC', 'ID', 'UniqueId_x',\n",
       "       'id_tramite', 'FechaHabAprobada', 'Calle', 'Numero', 'Barrio',\n",
       "       'FechaVencimientoHab', 'razonsocial', 'NombreFantasia', 'RubroNombre',\n",
       "       'UniqueId_y', 'location-ID', 'last-date'],\n",
       "      dtype='object')"
      ]
     },
     "execution_count": 119,
     "metadata": {},
     "output_type": "execute_result"
    }
   ],
   "source": [
    "df = pd.merge(df2, df1, on='CUIT')\n",
    "df.columns"
   ]
  },
  {
   "cell_type": "code",
   "execution_count": 120,
   "metadata": {},
   "outputs": [
    {
     "data": {
      "text/plain": [
       "1043"
      ]
     },
     "execution_count": 120,
     "metadata": {},
     "output_type": "execute_result"
    }
   ],
   "source": [
    "df = pd.merge(df2, df1, on='UniqueId')\n",
    "len(df)"
   ]
  },
  {
   "cell_type": "code",
   "execution_count": 121,
   "metadata": {},
   "outputs": [
    {
     "data": {
      "text/plain": [
       "15586"
      ]
     },
     "execution_count": 121,
     "metadata": {},
     "output_type": "execute_result"
    }
   ],
   "source": [
    "df = pd.merge(df2, df1, on='CUIT')\n",
    "#df.drop_duplicates(subset=['ID'])\n",
    "len(df)"
   ]
  },
  {
   "cell_type": "code",
   "execution_count": 125,
   "metadata": {},
   "outputs": [
    {
     "data": {
      "text/plain": [
       "475"
      ]
     },
     "execution_count": 125,
     "metadata": {},
     "output_type": "execute_result"
    }
   ],
   "source": [
    "df = pd.merge(df2, df1, on='UniqueId')\n",
    "dfe = df.copy()\n",
    "dfe = dfe.drop_duplicates(subset=['id_tramite'])\n",
    "len(dfe)"
   ]
  },
  {
   "cell_type": "code",
   "execution_count": null,
   "metadata": {},
   "outputs": [],
   "source": [
    "dfe.to_excel(r\"C:\\Users\\agosa\\OneDrive\\Documents\\GitHub\\WorkSpace\\join-tables-5-11\\data\\data475.xlsx\")"
   ]
  }
 ],
 "metadata": {
  "kernelspec": {
   "display_name": "base",
   "language": "python",
   "name": "python3"
  },
  "language_info": {
   "codemirror_mode": {
    "name": "ipython",
    "version": 3
   },
   "file_extension": ".py",
   "mimetype": "text/x-python",
   "name": "python",
   "nbconvert_exporter": "python",
   "pygments_lexer": "ipython3",
   "version": "3.9.13"
  },
  "orig_nbformat": 4
 },
 "nbformat": 4,
 "nbformat_minor": 2
}
