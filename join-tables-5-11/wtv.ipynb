{
 "cells": [
  {
   "cell_type": "code",
   "execution_count": 173,
   "metadata": {},
   "outputs": [],
   "source": [
    "import pandas as pd\n"
   ]
  },
  {
   "cell_type": "code",
   "execution_count": 174,
   "metadata": {},
   "outputs": [],
   "source": [
    "url1 = r\"C:\\Users\\agosa\\OneDrive\\Documents\\GitHub\\WorkSpace\\join-tables-5-11\\data\\hol_listado_empresas.xlsx\"\n",
    "url2 = r\"C:\\Users\\agosa\\OneDrive\\Documents\\GitHub\\WorkSpace\\join-tables-5-11\\data\\Activa_listado.xlsx\""
   ]
  },
  {
   "cell_type": "code",
   "execution_count": 175,
   "metadata": {},
   "outputs": [],
   "source": [
    "df1 = pd.read_excel(url1)\n",
    "df2 = pd.read_excel(url2,sheet_name=1)"
   ]
  },
  {
   "cell_type": "code",
   "execution_count": 176,
   "metadata": {},
   "outputs": [
    {
     "data": {
      "text/html": [
       "<div>\n",
       "<style scoped>\n",
       "    .dataframe tbody tr th:only-of-type {\n",
       "        vertical-align: middle;\n",
       "    }\n",
       "\n",
       "    .dataframe tbody tr th {\n",
       "        vertical-align: top;\n",
       "    }\n",
       "\n",
       "    .dataframe thead th {\n",
       "        text-align: right;\n",
       "    }\n",
       "</style>\n",
       "<table border=\"1\" class=\"dataframe\">\n",
       "  <thead>\n",
       "    <tr style=\"text-align: right;\">\n",
       "      <th></th>\n",
       "      <th>RUBRO</th>\n",
       "      <th>SUB-RUBRO</th>\n",
       "      <th>NOMBRE DE FANTASIA</th>\n",
       "      <th>DIRECCIÓN</th>\n",
       "      <th>RAZON SOCIAL</th>\n",
       "      <th>N° COMERCIO</th>\n",
       "      <th>CUIT</th>\n",
       "      <th>LATITUD</th>\n",
       "      <th>LONGITUD</th>\n",
       "      <th>CPC</th>\n",
       "      <th>ID</th>\n",
       "    </tr>\n",
       "  </thead>\n",
       "  <tbody>\n",
       "    <tr>\n",
       "      <th>0</th>\n",
       "      <td>ALMACENES</td>\n",
       "      <td>Almacén</td>\n",
       "      <td>Alto Tejeda</td>\n",
       "      <td>Gregorio Gavier 2005</td>\n",
       "      <td>Alto Tejeda</td>\n",
       "      <td>23251869</td>\n",
       "      <td>33711410959</td>\n",
       "      <td>-31.3682367854621</td>\n",
       "      <td>-64.2354533604359</td>\n",
       "      <td>ARGUELLO</td>\n",
       "      <td>10000</td>\n",
       "    </tr>\n",
       "    <tr>\n",
       "      <th>1</th>\n",
       "      <td>ALMACENES</td>\n",
       "      <td>Almacén</td>\n",
       "      <td>Alto Tejeda</td>\n",
       "      <td>Gregorio Gavier 2005</td>\n",
       "      <td>Alto Tejeda</td>\n",
       "      <td>23251869</td>\n",
       "      <td>33711410959</td>\n",
       "      <td>-31.3682367854621</td>\n",
       "      <td>-64.2354533604359</td>\n",
       "      <td>ARGUELLO</td>\n",
       "      <td>10000</td>\n",
       "    </tr>\n",
       "    <tr>\n",
       "      <th>2</th>\n",
       "      <td>ALMACENES</td>\n",
       "      <td>Almacén</td>\n",
       "      <td>Alto Tejeda</td>\n",
       "      <td>Menendez Pidal 3748</td>\n",
       "      <td>Alto Tejeda</td>\n",
       "      <td>23251906</td>\n",
       "      <td>33711410959</td>\n",
       "      <td>-31.3837978795171</td>\n",
       "      <td>-64.2347474315994</td>\n",
       "      <td>ARGUELLO</td>\n",
       "      <td>10001</td>\n",
       "    </tr>\n",
       "    <tr>\n",
       "      <th>3</th>\n",
       "      <td>ALMACENES</td>\n",
       "      <td>Almacén</td>\n",
       "      <td>Alto Tejeda</td>\n",
       "      <td>Av. Rafael Nuñez 6107</td>\n",
       "      <td>Alto Tejeda</td>\n",
       "      <td>23251947</td>\n",
       "      <td>33711410959</td>\n",
       "      <td>-31.3461386961099</td>\n",
       "      <td>-64.2507192892727</td>\n",
       "      <td>ARGUELLO</td>\n",
       "      <td>10002</td>\n",
       "    </tr>\n",
       "    <tr>\n",
       "      <th>4</th>\n",
       "      <td>ALMACENES</td>\n",
       "      <td>Almacén</td>\n",
       "      <td>Alto Tejeda</td>\n",
       "      <td>Av. Los Alamos 915</td>\n",
       "      <td>Alto Tejeda</td>\n",
       "      <td>25827966</td>\n",
       "      <td>33711410959</td>\n",
       "      <td>-31.3578384323557</td>\n",
       "      <td>-64.3102810019354</td>\n",
       "      <td>CENTRO AMERICA</td>\n",
       "      <td>10003</td>\n",
       "    </tr>\n",
       "  </tbody>\n",
       "</table>\n",
       "</div>"
      ],
      "text/plain": [
       "       RUBRO SUB-RUBRO NOMBRE DE FANTASIA              DIRECCIÓN RAZON SOCIAL  \\\n",
       "0  ALMACENES   Almacén        Alto Tejeda   Gregorio Gavier 2005  Alto Tejeda   \n",
       "1  ALMACENES   Almacén        Alto Tejeda   Gregorio Gavier 2005  Alto Tejeda   \n",
       "2  ALMACENES   Almacén        Alto Tejeda    Menendez Pidal 3748  Alto Tejeda   \n",
       "3  ALMACENES   Almacén        Alto Tejeda  Av. Rafael Nuñez 6107  Alto Tejeda   \n",
       "4  ALMACENES   Almacén        Alto Tejeda     Av. Los Alamos 915  Alto Tejeda   \n",
       "\n",
       "  N° COMERCIO         CUIT            LATITUD           LONGITUD  \\\n",
       "0    23251869  33711410959  -31.3682367854621  -64.2354533604359   \n",
       "1    23251869  33711410959  -31.3682367854621  -64.2354533604359   \n",
       "2    23251906  33711410959  -31.3837978795171  -64.2347474315994   \n",
       "3    23251947  33711410959  -31.3461386961099  -64.2507192892727   \n",
       "4    25827966  33711410959  -31.3578384323557  -64.3102810019354   \n",
       "\n",
       "              CPC     ID  \n",
       "0        ARGUELLO  10000  \n",
       "1        ARGUELLO  10000  \n",
       "2        ARGUELLO  10001  \n",
       "3        ARGUELLO  10002  \n",
       "4  CENTRO AMERICA  10003  "
      ]
     },
     "execution_count": 176,
     "metadata": {},
     "output_type": "execute_result"
    }
   ],
   "source": [
    "df2.head()"
   ]
  },
  {
   "cell_type": "code",
   "execution_count": 177,
   "metadata": {},
   "outputs": [
    {
     "name": "stdout",
     "output_type": "stream",
     "text": [
      "594\n",
      "1395\n"
     ]
    }
   ],
   "source": [
    "x = df2[\"ID\"].unique()\n",
    "print(len(x))\n",
    "print(len(df2))\n"
   ]
  },
  {
   "cell_type": "code",
   "execution_count": 178,
   "metadata": {},
   "outputs": [
    {
     "data": {
      "text/plain": [
       "count           53787\n",
       "unique          38871\n",
       "top       30711358508\n",
       "freq               61\n",
       "Name: cuitempresa, dtype: object"
      ]
     },
     "execution_count": 178,
     "metadata": {},
     "output_type": "execute_result"
    }
   ],
   "source": [
    "df1[\"cuitempresa\"].describe()"
   ]
  },
  {
   "cell_type": "code",
   "execution_count": 179,
   "metadata": {},
   "outputs": [],
   "source": [
    "def str_clean(x):\n",
    "    data = []\n",
    "    index = 0\n",
    "\n",
    "    for i in x:\n",
    "        if i == \"_\" or i== \"-\":\n",
    "            continue\n",
    "        else:\n",
    "            data.append(i)\n",
    "    return \"\".join(data)\n",
    "\n",
    "    \n",
    "\n",
    "df1[\"cuitempresa\"] = df1[\"cuitempresa\"].map(str_clean)\n",
    "df1[\"cuitempresa\"] = df1[\"cuitempresa\"].astype(float)\n",
    "\n"
   ]
  },
  {
   "cell_type": "code",
   "execution_count": 180,
   "metadata": {},
   "outputs": [],
   "source": [
    "df1.columns\n",
    "df1.columns = ['id_tramite', 'FechaHabAprobada', 'Calle', 'Numero', 'Barrio',\n",
    "       'FechaVencimientoHab', 'CUIT', 'razonsocial', 'NombreFantasia',\n",
    "       'RubroNombre']"
   ]
  },
  {
   "cell_type": "code",
   "execution_count": 181,
   "metadata": {},
   "outputs": [],
   "source": [
    "df1[\"location-ID\"] = df1[\"Calle\"] + \" - \" + df1[\"Numero\"] + \" - \" + df1[\"CUIT\"].astype(int).astype(str)"
   ]
  },
  {
   "cell_type": "code",
   "execution_count": 182,
   "metadata": {},
   "outputs": [],
   "source": [
    "df1[\"last-date\"] = 0"
   ]
  },
  {
   "cell_type": "code",
   "execution_count": 183,
   "metadata": {},
   "outputs": [
    {
     "name": "stdout",
     "output_type": "stream",
     "text": [
      "2023-12-12 23:59:59\n",
      "2026-06-17 00:00:00\n",
      "2018-10-22 11:47:31\n",
      "2019-04-07 10:27:22\n",
      "2024-02-18 23:59:59\n",
      "2019-09-23 11:46:15\n",
      "2020-10-01 17:51:00\n",
      "2022-08-02 23:59:59\n",
      "2018-11-13 08:39:23\n",
      "2020-05-12 09:51:58\n",
      "2023-12-17 23:59:59\n",
      "2018-10-28 09:17:13\n",
      "2018-11-27 15:25:12\n",
      "2018-11-07 12:05:55\n",
      "2027-01-20 00:00:00\n",
      "2021-10-05 23:59:59\n",
      "2023-09-11 23:59:59\n",
      "2025-03-03 23:59:59\n",
      "2025-12-16 23:59:59\n",
      "2024-09-06 23:59:59\n",
      "2018-11-01 10:53:59\n",
      "2022-11-09 23:59:59\n",
      "2018-11-12 10:08:38\n",
      "2019-11-20 11:56:04\n",
      "2018-10-18 12:58:38\n",
      "2018-12-06 09:19:18\n",
      "2018-10-22 10:16:36\n",
      "2018-10-22 10:16:50\n",
      "2023-11-05 23:59:59\n",
      "2020-03-13 11:04:59\n",
      "2018-10-07 12:23:57\n",
      "2019-08-20 08:40:40\n",
      "2024-11-14 23:59:59\n",
      "2023-11-05 23:59:59\n",
      "2019-03-13 11:58:44\n",
      "2019-06-06 08:18:36\n",
      "2019-03-12 10:11:00\n",
      "2019-04-03 12:20:31\n",
      "2027-02-15 00:00:00\n",
      "2018-11-22 16:09:29\n",
      "2024-03-13 23:59:59\n",
      "2025-03-03 23:59:59\n",
      "2018-10-09 17:28:28\n",
      "2018-11-18 10:40:10\n",
      "2018-12-30 09:32:24\n",
      "2024-01-14 23:59:59\n",
      "2018-11-05 09:03:30\n",
      "2027-10-31 00:00:00\n",
      "2024-09-13 23:59:59\n",
      "2019-03-07 12:50:21\n",
      "2018-11-12 12:40:13\n",
      "2023-08-29 23:59:59\n",
      "2019-09-02 15:11:29\n",
      "2024-07-02 23:59:59\n",
      "2021-04-08 23:59:59\n",
      "2027-01-28 00:00:00\n",
      "2027-09-12 00:00:00\n",
      "2025-09-04 23:59:59\n",
      "2024-03-22 23:59:59\n",
      "2023-11-02 23:59:59\n",
      "2023-08-07 23:59:59\n",
      "2020-01-26 14:15:22\n",
      "2018-12-13 09:30:42\n",
      "2018-11-15 09:27:25\n",
      "2018-12-03 14:12:22\n",
      "2022-09-13 23:59:59\n",
      "2026-02-17 23:59:59\n",
      "2024-01-17 23:59:59\n",
      "2018-11-18 11:35:33\n",
      "2026-09-08 00:00:00\n",
      "2018-11-07 11:28:43\n",
      "2018-10-23 09:40:15\n",
      "2021-04-08 23:59:59\n",
      "2023-10-05 23:59:59\n",
      "2026-08-10 00:00:00\n",
      "2019-02-19 11:47:19\n",
      "2023-03-15 23:59:59\n",
      "2025-11-10 23:59:59\n",
      "2019-06-06 12:30:49\n",
      "2026-11-30 00:00:00\n",
      "2018-11-21 11:34:53\n",
      "2022-11-16 23:59:59\n",
      "2024-09-26 23:59:59\n",
      "2022-06-26 23:59:59\n",
      "2023-12-04 23:59:59\n",
      "2018-10-15 11:15:20\n",
      "2024-01-15 23:59:59\n",
      "2018-11-01 10:26:04\n",
      "2020-10-27 14:50:25\n",
      "2018-10-15 15:02:58\n",
      "2018-10-28 11:47:40\n",
      "2023-03-16 23:59:59\n",
      "2022-06-07 23:59:59\n",
      "2020-07-14 09:22:18\n",
      "2022-08-31 23:59:59\n",
      "2024-08-05 23:59:59\n",
      "2023-12-07 23:59:59\n",
      "2018-11-05 12:16:46\n",
      "2018-11-20 10:35:34\n",
      "2019-03-12 11:34:05\n"
     ]
    },
    {
     "ename": "TypeError",
     "evalue": "'>=' not supported between instances of 'str' and 'float'",
     "output_type": "error",
     "traceback": [
      "\u001b[1;31m---------------------------------------------------------------------------\u001b[0m",
      "\u001b[1;31mTypeError\u001b[0m                                 Traceback (most recent call last)",
      "\u001b[1;32m~\\AppData\\Local\\Temp\\ipykernel_9636\\71645391.py\u001b[0m in \u001b[0;36m<module>\u001b[1;34m\u001b[0m\n\u001b[0;32m      3\u001b[0m \u001b[1;32mfor\u001b[0m \u001b[0mi\u001b[0m \u001b[1;32min\u001b[0m \u001b[0mdf1\u001b[0m\u001b[1;33m[\u001b[0m\u001b[1;34m\"location-ID\"\u001b[0m\u001b[1;33m]\u001b[0m\u001b[1;33m.\u001b[0m\u001b[0munique\u001b[0m\u001b[1;33m(\u001b[0m\u001b[1;33m)\u001b[0m\u001b[1;33m:\u001b[0m\u001b[1;33m\u001b[0m\u001b[1;33m\u001b[0m\u001b[0m\n\u001b[0;32m      4\u001b[0m     \u001b[0msubset\u001b[0m \u001b[1;33m=\u001b[0m \u001b[0mdf1\u001b[0m\u001b[1;33m[\u001b[0m\u001b[0mdf1\u001b[0m\u001b[1;33m[\u001b[0m\u001b[1;34m\"location-ID\"\u001b[0m\u001b[1;33m]\u001b[0m \u001b[1;33m==\u001b[0m \u001b[0mi\u001b[0m\u001b[1;33m]\u001b[0m\u001b[1;33m\u001b[0m\u001b[1;33m\u001b[0m\u001b[0m\n\u001b[1;32m----> 5\u001b[1;33m     \u001b[0mlocationDate\u001b[0m\u001b[1;33m[\u001b[0m\u001b[0mi\u001b[0m\u001b[1;33m]\u001b[0m \u001b[1;33m=\u001b[0m \u001b[0msubset\u001b[0m\u001b[1;33m[\u001b[0m\u001b[1;34m\"FechaVencimientoHab\"\u001b[0m\u001b[1;33m]\u001b[0m\u001b[1;33m.\u001b[0m\u001b[0mmax\u001b[0m\u001b[1;33m(\u001b[0m\u001b[1;33m)\u001b[0m\u001b[1;33m\u001b[0m\u001b[1;33m\u001b[0m\u001b[0m\n\u001b[0m\u001b[0;32m      6\u001b[0m     \u001b[0msubset\u001b[0m \u001b[1;33m=\u001b[0m \u001b[1;36m0\u001b[0m\u001b[1;33m\u001b[0m\u001b[1;33m\u001b[0m\u001b[0m\n\u001b[0;32m      7\u001b[0m     \u001b[0mprint\u001b[0m\u001b[1;33m(\u001b[0m\u001b[0mlocationDate\u001b[0m\u001b[1;33m[\u001b[0m\u001b[0mi\u001b[0m\u001b[1;33m]\u001b[0m\u001b[1;33m)\u001b[0m\u001b[1;33m\u001b[0m\u001b[1;33m\u001b[0m\u001b[0m\n",
      "\u001b[1;32mc:\\Users\\agosa\\anaconda3\\lib\\site-packages\\pandas\\core\\generic.py\u001b[0m in \u001b[0;36mmax\u001b[1;34m(self, axis, skipna, level, numeric_only, **kwargs)\u001b[0m\n\u001b[0;32m  11217\u001b[0m             \u001b[1;33m**\u001b[0m\u001b[0mkwargs\u001b[0m\u001b[1;33m,\u001b[0m\u001b[1;33m\u001b[0m\u001b[1;33m\u001b[0m\u001b[0m\n\u001b[0;32m  11218\u001b[0m         ):\n\u001b[1;32m> 11219\u001b[1;33m             \u001b[1;32mreturn\u001b[0m \u001b[0mNDFrame\u001b[0m\u001b[1;33m.\u001b[0m\u001b[0mmax\u001b[0m\u001b[1;33m(\u001b[0m\u001b[0mself\u001b[0m\u001b[1;33m,\u001b[0m \u001b[0maxis\u001b[0m\u001b[1;33m,\u001b[0m \u001b[0mskipna\u001b[0m\u001b[1;33m,\u001b[0m \u001b[0mlevel\u001b[0m\u001b[1;33m,\u001b[0m \u001b[0mnumeric_only\u001b[0m\u001b[1;33m,\u001b[0m \u001b[1;33m**\u001b[0m\u001b[0mkwargs\u001b[0m\u001b[1;33m)\u001b[0m\u001b[1;33m\u001b[0m\u001b[1;33m\u001b[0m\u001b[0m\n\u001b[0m\u001b[0;32m  11220\u001b[0m \u001b[1;33m\u001b[0m\u001b[0m\n\u001b[0;32m  11221\u001b[0m         \u001b[0msetattr\u001b[0m\u001b[1;33m(\u001b[0m\u001b[0mcls\u001b[0m\u001b[1;33m,\u001b[0m \u001b[1;34m\"max\"\u001b[0m\u001b[1;33m,\u001b[0m \u001b[0mmax\u001b[0m\u001b[1;33m)\u001b[0m\u001b[1;33m\u001b[0m\u001b[1;33m\u001b[0m\u001b[0m\n",
      "\u001b[1;32mc:\\Users\\agosa\\anaconda3\\lib\\site-packages\\pandas\\core\\generic.py\u001b[0m in \u001b[0;36mmax\u001b[1;34m(self, axis, skipna, level, numeric_only, **kwargs)\u001b[0m\n\u001b[0;32m  10674\u001b[0m         \u001b[1;33m**\u001b[0m\u001b[0mkwargs\u001b[0m\u001b[1;33m,\u001b[0m\u001b[1;33m\u001b[0m\u001b[1;33m\u001b[0m\u001b[0m\n\u001b[0;32m  10675\u001b[0m     ):\n\u001b[1;32m> 10676\u001b[1;33m         return self._stat_function(\n\u001b[0m\u001b[0;32m  10677\u001b[0m             \u001b[1;34m\"max\"\u001b[0m\u001b[1;33m,\u001b[0m\u001b[1;33m\u001b[0m\u001b[1;33m\u001b[0m\u001b[0m\n\u001b[0;32m  10678\u001b[0m             \u001b[0mnanops\u001b[0m\u001b[1;33m.\u001b[0m\u001b[0mnanmax\u001b[0m\u001b[1;33m,\u001b[0m\u001b[1;33m\u001b[0m\u001b[1;33m\u001b[0m\u001b[0m\n",
      "\u001b[1;32mc:\\Users\\agosa\\anaconda3\\lib\\site-packages\\pandas\\core\\generic.py\u001b[0m in \u001b[0;36m_stat_function\u001b[1;34m(self, name, func, axis, skipna, level, numeric_only, **kwargs)\u001b[0m\n\u001b[0;32m  10644\u001b[0m                 \u001b[0mname\u001b[0m\u001b[1;33m,\u001b[0m \u001b[0maxis\u001b[0m\u001b[1;33m=\u001b[0m\u001b[0maxis\u001b[0m\u001b[1;33m,\u001b[0m \u001b[0mlevel\u001b[0m\u001b[1;33m=\u001b[0m\u001b[0mlevel\u001b[0m\u001b[1;33m,\u001b[0m \u001b[0mskipna\u001b[0m\u001b[1;33m=\u001b[0m\u001b[0mskipna\u001b[0m\u001b[1;33m,\u001b[0m \u001b[0mnumeric_only\u001b[0m\u001b[1;33m=\u001b[0m\u001b[0mnumeric_only\u001b[0m\u001b[1;33m\u001b[0m\u001b[1;33m\u001b[0m\u001b[0m\n\u001b[0;32m  10645\u001b[0m             )\n\u001b[1;32m> 10646\u001b[1;33m         return self._reduce(\n\u001b[0m\u001b[0;32m  10647\u001b[0m             \u001b[0mfunc\u001b[0m\u001b[1;33m,\u001b[0m \u001b[0mname\u001b[0m\u001b[1;33m=\u001b[0m\u001b[0mname\u001b[0m\u001b[1;33m,\u001b[0m \u001b[0maxis\u001b[0m\u001b[1;33m=\u001b[0m\u001b[0maxis\u001b[0m\u001b[1;33m,\u001b[0m \u001b[0mskipna\u001b[0m\u001b[1;33m=\u001b[0m\u001b[0mskipna\u001b[0m\u001b[1;33m,\u001b[0m \u001b[0mnumeric_only\u001b[0m\u001b[1;33m=\u001b[0m\u001b[0mnumeric_only\u001b[0m\u001b[1;33m\u001b[0m\u001b[1;33m\u001b[0m\u001b[0m\n\u001b[0;32m  10648\u001b[0m         )\n",
      "\u001b[1;32mc:\\Users\\agosa\\anaconda3\\lib\\site-packages\\pandas\\core\\series.py\u001b[0m in \u001b[0;36m_reduce\u001b[1;34m(self, op, name, axis, skipna, numeric_only, filter_type, **kwds)\u001b[0m\n\u001b[0;32m   4469\u001b[0m                 )\n\u001b[0;32m   4470\u001b[0m             \u001b[1;32mwith\u001b[0m \u001b[0mnp\u001b[0m\u001b[1;33m.\u001b[0m\u001b[0merrstate\u001b[0m\u001b[1;33m(\u001b[0m\u001b[0mall\u001b[0m\u001b[1;33m=\u001b[0m\u001b[1;34m\"ignore\"\u001b[0m\u001b[1;33m)\u001b[0m\u001b[1;33m:\u001b[0m\u001b[1;33m\u001b[0m\u001b[1;33m\u001b[0m\u001b[0m\n\u001b[1;32m-> 4471\u001b[1;33m                 \u001b[1;32mreturn\u001b[0m \u001b[0mop\u001b[0m\u001b[1;33m(\u001b[0m\u001b[0mdelegate\u001b[0m\u001b[1;33m,\u001b[0m \u001b[0mskipna\u001b[0m\u001b[1;33m=\u001b[0m\u001b[0mskipna\u001b[0m\u001b[1;33m,\u001b[0m \u001b[1;33m**\u001b[0m\u001b[0mkwds\u001b[0m\u001b[1;33m)\u001b[0m\u001b[1;33m\u001b[0m\u001b[1;33m\u001b[0m\u001b[0m\n\u001b[0m\u001b[0;32m   4472\u001b[0m \u001b[1;33m\u001b[0m\u001b[0m\n\u001b[0;32m   4473\u001b[0m     def _reindex_indexer(\n",
      "\u001b[1;32mc:\\Users\\agosa\\anaconda3\\lib\\site-packages\\pandas\\core\\nanops.py\u001b[0m in \u001b[0;36mf\u001b[1;34m(values, axis, skipna, **kwds)\u001b[0m\n\u001b[0;32m    153\u001b[0m                     \u001b[0mresult\u001b[0m \u001b[1;33m=\u001b[0m \u001b[0malt\u001b[0m\u001b[1;33m(\u001b[0m\u001b[0mvalues\u001b[0m\u001b[1;33m,\u001b[0m \u001b[0maxis\u001b[0m\u001b[1;33m=\u001b[0m\u001b[0maxis\u001b[0m\u001b[1;33m,\u001b[0m \u001b[0mskipna\u001b[0m\u001b[1;33m=\u001b[0m\u001b[0mskipna\u001b[0m\u001b[1;33m,\u001b[0m \u001b[1;33m**\u001b[0m\u001b[0mkwds\u001b[0m\u001b[1;33m)\u001b[0m\u001b[1;33m\u001b[0m\u001b[1;33m\u001b[0m\u001b[0m\n\u001b[0;32m    154\u001b[0m             \u001b[1;32melse\u001b[0m\u001b[1;33m:\u001b[0m\u001b[1;33m\u001b[0m\u001b[1;33m\u001b[0m\u001b[0m\n\u001b[1;32m--> 155\u001b[1;33m                 \u001b[0mresult\u001b[0m \u001b[1;33m=\u001b[0m \u001b[0malt\u001b[0m\u001b[1;33m(\u001b[0m\u001b[0mvalues\u001b[0m\u001b[1;33m,\u001b[0m \u001b[0maxis\u001b[0m\u001b[1;33m=\u001b[0m\u001b[0maxis\u001b[0m\u001b[1;33m,\u001b[0m \u001b[0mskipna\u001b[0m\u001b[1;33m=\u001b[0m\u001b[0mskipna\u001b[0m\u001b[1;33m,\u001b[0m \u001b[1;33m**\u001b[0m\u001b[0mkwds\u001b[0m\u001b[1;33m)\u001b[0m\u001b[1;33m\u001b[0m\u001b[1;33m\u001b[0m\u001b[0m\n\u001b[0m\u001b[0;32m    156\u001b[0m \u001b[1;33m\u001b[0m\u001b[0m\n\u001b[0;32m    157\u001b[0m             \u001b[1;32mreturn\u001b[0m \u001b[0mresult\u001b[0m\u001b[1;33m\u001b[0m\u001b[1;33m\u001b[0m\u001b[0m\n",
      "\u001b[1;32mc:\\Users\\agosa\\anaconda3\\lib\\site-packages\\pandas\\core\\nanops.py\u001b[0m in \u001b[0;36mnew_func\u001b[1;34m(values, axis, skipna, mask, **kwargs)\u001b[0m\n\u001b[0;32m    408\u001b[0m             \u001b[0mmask\u001b[0m \u001b[1;33m=\u001b[0m \u001b[0misna\u001b[0m\u001b[1;33m(\u001b[0m\u001b[0mvalues\u001b[0m\u001b[1;33m)\u001b[0m\u001b[1;33m\u001b[0m\u001b[1;33m\u001b[0m\u001b[0m\n\u001b[0;32m    409\u001b[0m \u001b[1;33m\u001b[0m\u001b[0m\n\u001b[1;32m--> 410\u001b[1;33m         \u001b[0mresult\u001b[0m \u001b[1;33m=\u001b[0m \u001b[0mfunc\u001b[0m\u001b[1;33m(\u001b[0m\u001b[0mvalues\u001b[0m\u001b[1;33m,\u001b[0m \u001b[0maxis\u001b[0m\u001b[1;33m=\u001b[0m\u001b[0maxis\u001b[0m\u001b[1;33m,\u001b[0m \u001b[0mskipna\u001b[0m\u001b[1;33m=\u001b[0m\u001b[0mskipna\u001b[0m\u001b[1;33m,\u001b[0m \u001b[0mmask\u001b[0m\u001b[1;33m=\u001b[0m\u001b[0mmask\u001b[0m\u001b[1;33m,\u001b[0m \u001b[1;33m**\u001b[0m\u001b[0mkwargs\u001b[0m\u001b[1;33m)\u001b[0m\u001b[1;33m\u001b[0m\u001b[1;33m\u001b[0m\u001b[0m\n\u001b[0m\u001b[0;32m    411\u001b[0m \u001b[1;33m\u001b[0m\u001b[0m\n\u001b[0;32m    412\u001b[0m         \u001b[1;32mif\u001b[0m \u001b[0mdatetimelike\u001b[0m\u001b[1;33m:\u001b[0m\u001b[1;33m\u001b[0m\u001b[1;33m\u001b[0m\u001b[0m\n",
      "\u001b[1;32mc:\\Users\\agosa\\anaconda3\\lib\\site-packages\\pandas\\core\\nanops.py\u001b[0m in \u001b[0;36mreduction\u001b[1;34m(values, axis, skipna, mask)\u001b[0m\n\u001b[0;32m   1041\u001b[0m                 \u001b[0mresult\u001b[0m \u001b[1;33m=\u001b[0m \u001b[0mnp\u001b[0m\u001b[1;33m.\u001b[0m\u001b[0mnan\u001b[0m\u001b[1;33m\u001b[0m\u001b[1;33m\u001b[0m\u001b[0m\n\u001b[0;32m   1042\u001b[0m         \u001b[1;32melse\u001b[0m\u001b[1;33m:\u001b[0m\u001b[1;33m\u001b[0m\u001b[1;33m\u001b[0m\u001b[0m\n\u001b[1;32m-> 1043\u001b[1;33m             \u001b[0mresult\u001b[0m \u001b[1;33m=\u001b[0m \u001b[0mgetattr\u001b[0m\u001b[1;33m(\u001b[0m\u001b[0mvalues\u001b[0m\u001b[1;33m,\u001b[0m \u001b[0mmeth\u001b[0m\u001b[1;33m)\u001b[0m\u001b[1;33m(\u001b[0m\u001b[0maxis\u001b[0m\u001b[1;33m)\u001b[0m\u001b[1;33m\u001b[0m\u001b[1;33m\u001b[0m\u001b[0m\n\u001b[0m\u001b[0;32m   1044\u001b[0m \u001b[1;33m\u001b[0m\u001b[0m\n\u001b[0;32m   1045\u001b[0m         \u001b[0mresult\u001b[0m \u001b[1;33m=\u001b[0m \u001b[0m_maybe_null_out\u001b[0m\u001b[1;33m(\u001b[0m\u001b[0mresult\u001b[0m\u001b[1;33m,\u001b[0m \u001b[0maxis\u001b[0m\u001b[1;33m,\u001b[0m \u001b[0mmask\u001b[0m\u001b[1;33m,\u001b[0m \u001b[0mvalues\u001b[0m\u001b[1;33m.\u001b[0m\u001b[0mshape\u001b[0m\u001b[1;33m)\u001b[0m\u001b[1;33m\u001b[0m\u001b[1;33m\u001b[0m\u001b[0m\n",
      "\u001b[1;32mc:\\Users\\agosa\\anaconda3\\lib\\site-packages\\numpy\\core\\_methods.py\u001b[0m in \u001b[0;36m_amax\u001b[1;34m(a, axis, out, keepdims, initial, where)\u001b[0m\n\u001b[0;32m     38\u001b[0m def _amax(a, axis=None, out=None, keepdims=False,\n\u001b[0;32m     39\u001b[0m           initial=_NoValue, where=True):\n\u001b[1;32m---> 40\u001b[1;33m     \u001b[1;32mreturn\u001b[0m \u001b[0mumr_maximum\u001b[0m\u001b[1;33m(\u001b[0m\u001b[0ma\u001b[0m\u001b[1;33m,\u001b[0m \u001b[0maxis\u001b[0m\u001b[1;33m,\u001b[0m \u001b[1;32mNone\u001b[0m\u001b[1;33m,\u001b[0m \u001b[0mout\u001b[0m\u001b[1;33m,\u001b[0m \u001b[0mkeepdims\u001b[0m\u001b[1;33m,\u001b[0m \u001b[0minitial\u001b[0m\u001b[1;33m,\u001b[0m \u001b[0mwhere\u001b[0m\u001b[1;33m)\u001b[0m\u001b[1;33m\u001b[0m\u001b[1;33m\u001b[0m\u001b[0m\n\u001b[0m\u001b[0;32m     41\u001b[0m \u001b[1;33m\u001b[0m\u001b[0m\n\u001b[0;32m     42\u001b[0m def _amin(a, axis=None, out=None, keepdims=False,\n",
      "\u001b[1;31mTypeError\u001b[0m: '>=' not supported between instances of 'str' and 'float'"
     ]
    }
   ],
   "source": [
    "locationDate = {}\n",
    "\n",
    "for i in df1[\"location-ID\"].unique():\n",
    "    subset = df1[df1[\"location-ID\"] == i]\n",
    "    locationDate[i] = subset[\"FechaVencimientoHab\"].max()\n",
    "    subset = 0\n",
    "    print(locationDate[i])\n",
    "\n",
    "locationDate"
   ]
  },
  {
   "cell_type": "code",
   "execution_count": 184,
   "metadata": {},
   "outputs": [
    {
     "data": {
      "text/plain": [
       "{' AV PUEYRREDON  - 756 - -2147483648': '2023-12-12 23:59:59',\n",
       " ' ITUZAINGO  - 730 - -2147483648': '2026-06-17 00:00:00',\n",
       " ' UCACHA  - 2182 - -2147483648': '2018-10-22 11:47:31',\n",
       " ' ENTRE RIOS  - 4773 - -2147483648': '2019-04-07 10:27:22',\n",
       " ' CAVALANGO  - 4407 - -2147483648': '2024-02-18 23:59:59',\n",
       " ' AV RECTA MARTINOLLI  - 6744 - -2147483648': '2019-09-23 11:46:15',\n",
       " 'AV RECTA MARTINOLLI - 7707 - -2147483648': '2020-10-01 17:51:00',\n",
       " ' LA RIOJA  - 59 - -2147483648': '2022-08-02 23:59:59',\n",
       " ' DAG HAMMARSKJOLD  - 2706 - -2147483648': '2018-11-13 08:39:23',\n",
       " ' JOSE BAIGORRI  - 711 - -2147483648': '2020-05-12 09:51:58',\n",
       " ' 9 DE JULIO  - 1333 - -2147483648': '2023-12-17 23:59:59',\n",
       " 'GDOR JOSE ESTEBAN BUSTOS - 1012 - -2147483648': '2018-10-28 09:17:13',\n",
       " 'RIO DE JANEIRO - 1492 - -2147483648': '2018-11-27 15:25:12',\n",
       " 'AGUSTIN GAMARRA - 5681 - -2147483648': '2018-11-07 12:05:55',\n",
       " ' LUIS JOSE DE TEJEDA  - 4531 - -2147483648': '2027-01-20 00:00:00',\n",
       " ' 9 DE JULIO  - 241 - -2147483648': '2021-10-05 23:59:59',\n",
       " ' 25 DE MAYO  - 961 - -2147483648': '2023-09-11 23:59:59',\n",
       " ' MARIANO FRAGUEIRO  - 2552 - -2147483648': '2025-03-03 23:59:59',\n",
       " ' AV ILDEFONSO MUÑECAS  - 4201 - -2147483648': '2025-12-16 23:59:59',\n",
       " ' JOSE MARIA BEDOYA  - 240 - -2147483648': '2024-09-06 23:59:59',\n",
       " ' ALONSO DE MIRANDA  - 3443 - -2147483648': '2018-11-01 10:53:59',\n",
       " ' ALFONSINA STORNI  - 224 - -2147483648': '2022-11-09 23:59:59',\n",
       " ' AV RECTA MARTINOLLI  - 8206 - -2147483648': '2018-11-12 10:08:38',\n",
       " ' DIAG ICA  - 1245 - -2147483648': '2019-11-20 11:56:04',\n",
       " ' MEDRANO  - 4711 - -2147483648': '2018-10-18 12:58:38',\n",
       " ' ANTONIO DEL VISO  - 0811 - -2147483648': '2018-12-06 09:19:18',\n",
       " ' DEL GATO  - 350 - -2147483648': '2018-10-22 10:16:36',\n",
       " ' DE LA CHACARERA  - 12 - -2147483648': '2018-10-22 10:16:50',\n",
       " ' AV JUAN VUCETICH  - 6762 - -2147483648': '2023-11-05 23:59:59',\n",
       " ' CNEL JUAN P PRINGLES  - 47 - -2147483648': '2020-03-13 11:04:59',\n",
       " ' EMILIO LAMARCA  - 4251 - -2147483648': '2018-10-07 12:23:57',\n",
       " ' EUGENIO PIZZOLATTO  - 6994 - -2147483648': '2019-08-20 08:40:40',\n",
       " ' ANTONIO RODRIGUEZ DEL BUSTO  - 4086 - -2147483648': '2024-11-14 23:59:59',\n",
       " ' GILARDO GILARDI  - 1115 - -2147483648': '2023-11-05 23:59:59',\n",
       " ' AV RECTA MARTINOLLI  - 6639 - -2147483648': '2019-03-13 11:58:44',\n",
       " ' AV GDOR DR AMADEO SABATTINI  - 2299 - -2147483648': '2019-06-06 08:18:36',\n",
       " ' OBISPO TREJO Y SANABRIA  - 1399 - -2147483648': '2019-03-12 10:11:00',\n",
       " ' JOSE MANUEL ESTRADA  - 78 - -2147483648': '2019-04-03 12:20:31',\n",
       " ' SANTA ROSA  - 148 - -2147483648': '2027-02-15 00:00:00',\n",
       " ' CATAMARCA  - 18 - -2147483648': '2018-11-22 16:09:29',\n",
       " ' SANTA ROSA  - 25 - -2147483648': '2024-03-13 23:59:59',\n",
       " ' AV COLON  - 5593 - -2147483648': '2025-03-03 23:59:59',\n",
       " ' CESAR RATTI  - 120 - -2147483648': '2018-10-09 17:28:28',\n",
       " ' ENRIQUE MARTINEZ PAZ  - 53 - -2147483648': '2018-11-18 10:40:10',\n",
       " ' AV PUEYRREDON  - 64 - -2147483648': '2018-12-30 09:32:24',\n",
       " ' ACONCAGUA  - 2544 - -2147483648': '2024-01-14 23:59:59',\n",
       " ' AV DR RAFAEL NUÑEZ  - 4870 - -2147483648': '2018-11-05 09:03:30',\n",
       " ' AV VELEZ SARSFIELD  - 361 - -2147483648': '2027-10-31 00:00:00',\n",
       " ' MARCELO T DE ALVEAR  - 25 - -2147483648': '2024-09-13 23:59:59',\n",
       " ' SALTA  - 47 - -2147483648': '2019-03-07 12:50:21',\n",
       " ' CASTILLA  - 1870 - -2147483648': '2018-11-12 12:40:13',\n",
       " ' AV DR RAFAEL NUÑEZ  - 3612 - -2147483648': '2023-08-29 23:59:59',\n",
       " ' DEAN GREGORIO FUNES - 521 - -2147483648': '2019-09-02 15:11:29',\n",
       " ' AV LEANDRO N ALEM  - 642 - -2147483648': '2024-07-02 23:59:59',\n",
       " ' RIO SEGUNDO  - 1053 - -2147483648': '2021-04-08 23:59:59',\n",
       " ' AV DR RAFAEL NUÑEZ  - 4390 - -2147483648': '2027-01-28 00:00:00',\n",
       " ' DR RICARDO BALBIN  - 4500 - -2147483648': '2027-09-12 00:00:00',\n",
       " ' AV COLON  - 610 - -2147483648': '2025-09-04 23:59:59',\n",
       " ' HULUMAN  - 1747 - -2147483648': '2024-03-22 23:59:59',\n",
       " ' TTE GRAL DONATO ALVAREZ  - 8385 - -2147483648': '2023-11-02 23:59:59',\n",
       " ' RIVADAVIA  - 186 - -2147483648': '2023-08-07 23:59:59',\n",
       " ' BUENOS AIRES  - 1001 - -2147483648': '2020-01-26 14:15:22',\n",
       " ' DR TRISTAN ACHAVAL RODRIGUEZ  - 971 - -2147483648': '2018-12-13 09:30:42',\n",
       " ' CJAL CABICHE  - 74 - -2147483648': '2018-11-15 09:27:25',\n",
       " ' CRISOL - 141 - -2147483648': '2018-12-03 14:12:22',\n",
       " ' JOSE MARIA BEDOYA  - 516 - -2147483648': '2022-09-13 23:59:59',\n",
       " ' RICARDO ROJAS  - 6834 - -2147483648': '2026-02-17 23:59:59',\n",
       " ' AV GDOR DR AMADEO SABATTINI  - 3300 - -2147483648': '2024-01-17 23:59:59',\n",
       " ' AV RECTA MARTINOLLI  - 7525 - -2147483648': '2018-11-18 11:35:33',\n",
       " ' AV RAMON MENENDEZ PIDAL  - 3839 - -2147483648': '2026-09-08 00:00:00',\n",
       " ' AV RECTA MARTINOLLI  - 6714 - -2147483648': '2018-11-07 11:28:43',\n",
       " ' ALFONSINA STORNI  - 124 - -2147483648': '2018-10-23 09:40:15',\n",
       " ' TTE GRAL DONATO ALVAREZ  - 7357 - -2147483648': '2021-04-08 23:59:59',\n",
       " ' TTE GRAL DONATO ALVAREZ  - 9331 - -2147483648': '2023-10-05 23:59:59',\n",
       " ' CRISOL  - 93 - -2147483648': '2026-08-10 00:00:00',\n",
       " ' MENDOZA  - 2980 - -2147483648': '2019-02-19 11:47:19',\n",
       " ' JAMAICA  - 749 - -2147483648': '2023-03-15 23:59:59',\n",
       " ' DUARTE QUIROS  - 801 - -2147483648': '2025-11-10 23:59:59',\n",
       " ' AV VIVES  - 3165 - -2147483648': '2019-06-06 12:30:49',\n",
       " ' AV DR RAFAEL NUÑEZ  - 4388 - -2147483648': '2026-11-30 00:00:00',\n",
       " ' LA RIOJA  - 940 - -2147483648': '2018-11-21 11:34:53',\n",
       " ' OBISPO SALGUERO  - 778 - -2147483648': '2022-11-16 23:59:59',\n",
       " ' SAN JERONIMO  - 137 - -2147483648': '2024-09-26 23:59:59',\n",
       " ' AV COLON  - 1800 - -2147483648': '2022-06-26 23:59:59',\n",
       " ' SAN JERONIMO  - 2591 - -2147483648': '2023-12-04 23:59:59',\n",
       " ' AV LEANDRO N ALEM  - 2223 - -2147483648': '2018-10-15 11:15:20',\n",
       " ' MTRO VIDAL  - 920 - -2147483648': '2024-01-15 23:59:59',\n",
       " ' JAVIER LASCANO COLODRERO  - 3005 - -2147483648': '2018-11-01 10:26:04',\n",
       " ' SUCRE  - 33 - -2147483648': '2020-10-27 14:50:25',\n",
       " ' DEL GATO  - 12 - -2147483648': '2018-10-15 15:02:58',\n",
       " ' RIO NEGRO  - 1178 - -2147483648': '2018-10-28 11:47:40',\n",
       " ' LA RIOJA  - 301 - -2147483648': '2023-03-16 23:59:59',\n",
       " ' EMILIO A CARAFFA  - 2103 - -2147483648': '2022-06-07 23:59:59',\n",
       " ' 25 DE MAYO  - 1171 - -2147483648': '2020-07-14 09:22:18',\n",
       " ' AV JUAN B JUSTO  - 3900 - -2147483648': '2022-08-31 23:59:59',\n",
       " ' GRAL PAZ  - 1259 - -2147483648': '2024-08-05 23:59:59',\n",
       " ' AV GDOR DR AMADEO SABATTINI  - 4260 - -2147483648': '2023-12-07 23:59:59',\n",
       " 'ARTURO CAPDEVILA  - 8 - -2147483648': '2018-11-05 12:16:46',\n",
       " ' CNO A VILLA POSSE  - 6850 - -2147483648': '2018-11-20 10:35:34',\n",
       " ' DE LOS ALEMANES  - 4891 - -2147483648': '2019-03-12 11:34:05'}"
      ]
     },
     "execution_count": 184,
     "metadata": {},
     "output_type": "execute_result"
    }
   ],
   "source": [
    "locationDate"
   ]
  },
  {
   "cell_type": "code",
   "execution_count": 185,
   "metadata": {},
   "outputs": [
    {
     "name": "stderr",
     "output_type": "stream",
     "text": [
      "C:\\Users\\agosa\\AppData\\Local\\Temp\\ipykernel_9636\\3128810647.py:4: SettingWithCopyWarning: \n",
      "A value is trying to be set on a copy of a slice from a DataFrame\n",
      "\n",
      "See the caveats in the documentation: https://pandas.pydata.org/pandas-docs/stable/user_guide/indexing.html#returning-a-view-versus-a-copy\n",
      "  df1[\"last-date\"][i] = locationDate[r]\n"
     ]
    }
   ],
   "source": [
    "\n",
    "for i in range(len(df1)):\n",
    "    r = df1[\"location-ID\"][i]\n",
    "    if r in locationDate.keys():\n",
    "        df1[\"last-date\"][i] = locationDate[r]\n",
    "\n"
   ]
  },
  {
   "cell_type": "code",
   "execution_count": 198,
   "metadata": {},
   "outputs": [
    {
     "data": {
      "text/html": [
       "<div>\n",
       "<style scoped>\n",
       "    .dataframe tbody tr th:only-of-type {\n",
       "        vertical-align: middle;\n",
       "    }\n",
       "\n",
       "    .dataframe tbody tr th {\n",
       "        vertical-align: top;\n",
       "    }\n",
       "\n",
       "    .dataframe thead th {\n",
       "        text-align: right;\n",
       "    }\n",
       "</style>\n",
       "<table border=\"1\" class=\"dataframe\">\n",
       "  <thead>\n",
       "    <tr style=\"text-align: right;\">\n",
       "      <th></th>\n",
       "      <th>id_tramite</th>\n",
       "      <th>FechaHabAprobada</th>\n",
       "      <th>Calle</th>\n",
       "      <th>Numero</th>\n",
       "      <th>Barrio</th>\n",
       "      <th>FechaVencimientoHab</th>\n",
       "      <th>CUIT</th>\n",
       "      <th>razonsocial</th>\n",
       "      <th>NombreFantasia</th>\n",
       "      <th>RubroNombre</th>\n",
       "      <th>location-ID</th>\n",
       "      <th>last-date</th>\n",
       "    </tr>\n",
       "  </thead>\n",
       "  <tbody>\n",
       "    <tr>\n",
       "      <th>0</th>\n",
       "      <td>226</td>\n",
       "      <td>2018-12-12 14:36:50</td>\n",
       "      <td>AV PUEYRREDON</td>\n",
       "      <td>756</td>\n",
       "      <td>GUEMES</td>\n",
       "      <td>2023-12-12 23:59:59</td>\n",
       "      <td>2.728504e+10</td>\n",
       "      <td>ELVER</td>\n",
       "      <td>NaN</td>\n",
       "      <td>Almacén de comestibles</td>\n",
       "      <td>AV PUEYRREDON  - 756 - -2147483648</td>\n",
       "      <td>2023-12-12 23:59:59</td>\n",
       "    </tr>\n",
       "    <tr>\n",
       "      <th>1</th>\n",
       "      <td>234</td>\n",
       "      <td>2014-08-26 11:49:01</td>\n",
       "      <td>ITUZAINGO</td>\n",
       "      <td>730</td>\n",
       "      <td>NUEVA CORDOBA</td>\n",
       "      <td>2019-08-26 11:49:01</td>\n",
       "      <td>3.071420e+10</td>\n",
       "      <td>MARINA B. LOPEZ Y ANTONELLA GROPPO MERGUERIAN ...</td>\n",
       "      <td>NIZA</td>\n",
       "      <td>Venta al por menor de prendas de vestir, excep...</td>\n",
       "      <td>ITUZAINGO  - 730 - -2147483648</td>\n",
       "      <td>2026-06-17 00:00:00</td>\n",
       "    </tr>\n",
       "    <tr>\n",
       "      <th>2</th>\n",
       "      <td>275</td>\n",
       "      <td>2013-10-22 11:47:31</td>\n",
       "      <td>UCACHA</td>\n",
       "      <td>2182</td>\n",
       "      <td>EMPALME</td>\n",
       "      <td>2018-10-22 11:47:31</td>\n",
       "      <td>2.027717e+10</td>\n",
       "      <td>BAZAN DAMIAN OSVALDO</td>\n",
       "      <td>NaN</td>\n",
       "      <td>Carnicería. Venta al por menor de carnes y sus...</td>\n",
       "      <td>UCACHA  - 2182 - -2147483648</td>\n",
       "      <td>2018-10-22 11:47:31</td>\n",
       "    </tr>\n",
       "    <tr>\n",
       "      <th>3</th>\n",
       "      <td>278</td>\n",
       "      <td>2014-04-07 10:27:22</td>\n",
       "      <td>ENTRE RIOS</td>\n",
       "      <td>4773</td>\n",
       "      <td>ACOSTA</td>\n",
       "      <td>2019-04-07 10:27:22</td>\n",
       "      <td>2.006437e+10</td>\n",
       "      <td>BIGLIA RUBEN OMAR</td>\n",
       "      <td>NaN</td>\n",
       "      <td>Fabricación y reparación de acondicionadores d...</td>\n",
       "      <td>ENTRE RIOS  - 4773 - -2147483648</td>\n",
       "      <td>2019-04-07 10:27:22</td>\n",
       "    </tr>\n",
       "    <tr>\n",
       "      <th>4</th>\n",
       "      <td>281</td>\n",
       "      <td>2013-12-23 11:47:29</td>\n",
       "      <td>CAVALANGO</td>\n",
       "      <td>4407</td>\n",
       "      <td>EMPALME</td>\n",
       "      <td>2018-12-23 11:47:29</td>\n",
       "      <td>2.007991e+10</td>\n",
       "      <td>PASCHETTA JUAN JOSE</td>\n",
       "      <td>EL JUAN</td>\n",
       "      <td>Servicios de elaboración propia o por terceros...</td>\n",
       "      <td>CAVALANGO  - 4407 - -2147483648</td>\n",
       "      <td>2024-02-18 23:59:59</td>\n",
       "    </tr>\n",
       "    <tr>\n",
       "      <th>...</th>\n",
       "      <td>...</td>\n",
       "      <td>...</td>\n",
       "      <td>...</td>\n",
       "      <td>...</td>\n",
       "      <td>...</td>\n",
       "      <td>...</td>\n",
       "      <td>...</td>\n",
       "      <td>...</td>\n",
       "      <td>...</td>\n",
       "      <td>...</td>\n",
       "      <td>...</td>\n",
       "      <td>...</td>\n",
       "    </tr>\n",
       "    <tr>\n",
       "      <th>53782</th>\n",
       "      <td>209033</td>\n",
       "      <td>2023-05-11 08:46:18</td>\n",
       "      <td>ONCATIVO</td>\n",
       "      <td>69</td>\n",
       "      <td>CENTRO</td>\n",
       "      <td>2028-05-11 00:00:00</td>\n",
       "      <td>2.017627e+10</td>\n",
       "      <td>OSCAR MANUEL BALTAZAR</td>\n",
       "      <td>NaN</td>\n",
       "      <td>VENTA AL POR MENOR DE FRUTAS, LEGUMBRES Y HORT...</td>\n",
       "      <td>ONCATIVO - 69 - -2147483648</td>\n",
       "      <td>0</td>\n",
       "    </tr>\n",
       "    <tr>\n",
       "      <th>53783</th>\n",
       "      <td>209078</td>\n",
       "      <td>2023-05-10 13:17:01</td>\n",
       "      <td>DUARTE QUIROS</td>\n",
       "      <td>179</td>\n",
       "      <td>CENTRO</td>\n",
       "      <td>2028-05-10 00:00:00</td>\n",
       "      <td>2.724250e+10</td>\n",
       "      <td>MARIA LISANDRA CATTANEO</td>\n",
       "      <td>VARIETE</td>\n",
       "      <td>VENTA AL POR MENOR EN KIOSCOS, POLIRRUBROS Y C...</td>\n",
       "      <td>DUARTE QUIROS - 179 - -2147483648</td>\n",
       "      <td>0</td>\n",
       "    </tr>\n",
       "    <tr>\n",
       "      <th>53784</th>\n",
       "      <td>209112</td>\n",
       "      <td>2023-05-10 15:43:22</td>\n",
       "      <td>JACINTO DE ALTOLAGUIRRE</td>\n",
       "      <td>1665</td>\n",
       "      <td>YOFRE NORTE</td>\n",
       "      <td>2028-05-10 00:00:00</td>\n",
       "      <td>3.071645e+10</td>\n",
       "      <td>SUPERNANI S.A.S.</td>\n",
       "      <td>NaN</td>\n",
       "      <td>VENTA AL POR MENOR EN MINIMERCADOS</td>\n",
       "      <td>JACINTO DE ALTOLAGUIRRE - 1665 - -2147483648</td>\n",
       "      <td>0</td>\n",
       "    </tr>\n",
       "    <tr>\n",
       "      <th>53785</th>\n",
       "      <td>209152</td>\n",
       "      <td>2023-05-10 22:53:34</td>\n",
       "      <td>GRAL BERNARDO O'HIGGINS</td>\n",
       "      <td>6411</td>\n",
       "      <td>QUINTAS DE FLORES</td>\n",
       "      <td>2028-05-10 00:00:00</td>\n",
       "      <td>2.023763e+10</td>\n",
       "      <td>AGUSTIN PEDRO CAMPENNI</td>\n",
       "      <td>Panaderia Brulee</td>\n",
       "      <td>VENTA AL POR MENOR DE PAN Y PRODUCTOS DE PANAD...</td>\n",
       "      <td>GRAL BERNARDO O'HIGGINS - 6411 - -2147483648</td>\n",
       "      <td>0</td>\n",
       "    </tr>\n",
       "    <tr>\n",
       "      <th>53786</th>\n",
       "      <td>209153</td>\n",
       "      <td>2023-05-11 00:01:46</td>\n",
       "      <td>BV SAN JUAN</td>\n",
       "      <td>214</td>\n",
       "      <td>CENTRO</td>\n",
       "      <td>2028-05-11 00:00:00</td>\n",
       "      <td>2.743272e+10</td>\n",
       "      <td>VICTORIA LALLANA</td>\n",
       "      <td>NaN</td>\n",
       "      <td>VENTA AL POR MENOR EN KIOSCOS, POLIRRUBROS Y C...</td>\n",
       "      <td>BV SAN JUAN - 214 - -2147483648</td>\n",
       "      <td>0</td>\n",
       "    </tr>\n",
       "  </tbody>\n",
       "</table>\n",
       "<p>53787 rows × 12 columns</p>\n",
       "</div>"
      ],
      "text/plain": [
       "       id_tramite     FechaHabAprobada                    Calle Numero  \\\n",
       "0             226  2018-12-12 14:36:50           AV PUEYRREDON     756   \n",
       "1             234  2014-08-26 11:49:01               ITUZAINGO     730   \n",
       "2             275  2013-10-22 11:47:31                  UCACHA    2182   \n",
       "3             278  2014-04-07 10:27:22              ENTRE RIOS    4773   \n",
       "4             281  2013-12-23 11:47:29               CAVALANGO    4407   \n",
       "...           ...                  ...                      ...    ...   \n",
       "53782      209033  2023-05-11 08:46:18                 ONCATIVO     69   \n",
       "53783      209078  2023-05-10 13:17:01            DUARTE QUIROS    179   \n",
       "53784      209112  2023-05-10 15:43:22  JACINTO DE ALTOLAGUIRRE   1665   \n",
       "53785      209152  2023-05-10 22:53:34  GRAL BERNARDO O'HIGGINS   6411   \n",
       "53786      209153  2023-05-11 00:01:46              BV SAN JUAN    214   \n",
       "\n",
       "                  Barrio  FechaVencimientoHab          CUIT  \\\n",
       "0                 GUEMES  2023-12-12 23:59:59  2.728504e+10   \n",
       "1          NUEVA CORDOBA  2019-08-26 11:49:01  3.071420e+10   \n",
       "2                EMPALME  2018-10-22 11:47:31  2.027717e+10   \n",
       "3                 ACOSTA  2019-04-07 10:27:22  2.006437e+10   \n",
       "4                EMPALME  2018-12-23 11:47:29  2.007991e+10   \n",
       "...                  ...                  ...           ...   \n",
       "53782             CENTRO  2028-05-11 00:00:00  2.017627e+10   \n",
       "53783             CENTRO  2028-05-10 00:00:00  2.724250e+10   \n",
       "53784        YOFRE NORTE  2028-05-10 00:00:00  3.071645e+10   \n",
       "53785  QUINTAS DE FLORES  2028-05-10 00:00:00  2.023763e+10   \n",
       "53786             CENTRO  2028-05-11 00:00:00  2.743272e+10   \n",
       "\n",
       "                                             razonsocial    NombreFantasia  \\\n",
       "0                                                  ELVER               NaN   \n",
       "1      MARINA B. LOPEZ Y ANTONELLA GROPPO MERGUERIAN ...              NIZA   \n",
       "2                                   BAZAN DAMIAN OSVALDO               NaN   \n",
       "3                                      BIGLIA RUBEN OMAR               NaN   \n",
       "4                                    PASCHETTA JUAN JOSE           EL JUAN   \n",
       "...                                                  ...               ...   \n",
       "53782                              OSCAR MANUEL BALTAZAR               NaN   \n",
       "53783                            MARIA LISANDRA CATTANEO           VARIETE   \n",
       "53784                                   SUPERNANI S.A.S.               NaN   \n",
       "53785                             AGUSTIN PEDRO CAMPENNI  Panaderia Brulee   \n",
       "53786                                   VICTORIA LALLANA               NaN   \n",
       "\n",
       "                                             RubroNombre  \\\n",
       "0                                 Almacén de comestibles   \n",
       "1      Venta al por menor de prendas de vestir, excep...   \n",
       "2      Carnicería. Venta al por menor de carnes y sus...   \n",
       "3      Fabricación y reparación de acondicionadores d...   \n",
       "4      Servicios de elaboración propia o por terceros...   \n",
       "...                                                  ...   \n",
       "53782  VENTA AL POR MENOR DE FRUTAS, LEGUMBRES Y HORT...   \n",
       "53783  VENTA AL POR MENOR EN KIOSCOS, POLIRRUBROS Y C...   \n",
       "53784                 VENTA AL POR MENOR EN MINIMERCADOS   \n",
       "53785  VENTA AL POR MENOR DE PAN Y PRODUCTOS DE PANAD...   \n",
       "53786  VENTA AL POR MENOR EN KIOSCOS, POLIRRUBROS Y C...   \n",
       "\n",
       "                                        location-ID            last-date  \n",
       "0                AV PUEYRREDON  - 756 - -2147483648  2023-12-12 23:59:59  \n",
       "1                    ITUZAINGO  - 730 - -2147483648  2026-06-17 00:00:00  \n",
       "2                      UCACHA  - 2182 - -2147483648  2018-10-22 11:47:31  \n",
       "3                  ENTRE RIOS  - 4773 - -2147483648  2019-04-07 10:27:22  \n",
       "4                   CAVALANGO  - 4407 - -2147483648  2024-02-18 23:59:59  \n",
       "...                                             ...                  ...  \n",
       "53782                   ONCATIVO - 69 - -2147483648                    0  \n",
       "53783             DUARTE QUIROS - 179 - -2147483648                    0  \n",
       "53784  JACINTO DE ALTOLAGUIRRE - 1665 - -2147483648                    0  \n",
       "53785  GRAL BERNARDO O'HIGGINS - 6411 - -2147483648                    0  \n",
       "53786               BV SAN JUAN - 214 - -2147483648                    0  \n",
       "\n",
       "[53787 rows x 12 columns]"
      ]
     },
     "execution_count": 198,
     "metadata": {},
     "output_type": "execute_result"
    }
   ],
   "source": [
    "df1"
   ]
  },
  {
   "cell_type": "code",
   "execution_count": null,
   "metadata": {},
   "outputs": [],
   "source": []
  },
  {
   "cell_type": "code",
   "execution_count": null,
   "metadata": {},
   "outputs": [
    {
     "name": "stdout",
     "output_type": "stream",
     "text": [
      "id_tramite\n",
      "FechaHabAprobada\n",
      "Calle\n",
      "Numero\n",
      "Barrio\n",
      "FechaVencimientoHab\n",
      "CUIT\n",
      "razonsocial\n",
      "NombreFantasia\n",
      "RubroNombre\n",
      "location-ID\n"
     ]
    }
   ],
   "source": [
    "for i in df1:\n",
    "    print(i)"
   ]
  },
  {
   "cell_type": "code",
   "execution_count": 187,
   "metadata": {},
   "outputs": [
    {
     "data": {
      "text/plain": [
       "count    1.395000e+03\n",
       "mean     2.851084e+10\n",
       "std      4.080087e+09\n",
       "min      2.006122e+10\n",
       "25%      2.727840e+10\n",
       "50%      3.061649e+10\n",
       "75%      3.070912e+10\n",
       "max      3.371723e+10\n",
       "Name: CUIT, dtype: float64"
      ]
     },
     "execution_count": 187,
     "metadata": {},
     "output_type": "execute_result"
    }
   ],
   "source": [
    "df2[\"CUIT\"].describe()"
   ]
  },
  {
   "cell_type": "code",
   "execution_count": 188,
   "metadata": {},
   "outputs": [
    {
     "data": {
      "text/plain": [
       "Index(['id_tramite', 'FechaHabAprobada', 'Calle', 'Numero', 'Barrio',\n",
       "       'FechaVencimientoHab', 'CUIT', 'razonsocial', 'NombreFantasia',\n",
       "       'RubroNombre', 'location-ID', 'last-date'],\n",
       "      dtype='object')"
      ]
     },
     "execution_count": 188,
     "metadata": {},
     "output_type": "execute_result"
    }
   ],
   "source": [
    "df1.columns"
   ]
  },
  {
   "cell_type": "code",
   "execution_count": null,
   "metadata": {},
   "outputs": [],
   "source": []
  },
  {
   "cell_type": "code",
   "execution_count": 189,
   "metadata": {},
   "outputs": [],
   "source": [
    "df = pd.merge(df2, df1, on='CUIT')"
   ]
  },
  {
   "cell_type": "code",
   "execution_count": 190,
   "metadata": {},
   "outputs": [
    {
     "data": {
      "text/plain": [
       "Index(['RUBRO', 'SUB-RUBRO', 'NOMBRE DE FANTASIA', 'DIRECCIÓN', 'RAZON SOCIAL',\n",
       "       'N° COMERCIO', 'CUIT', 'LATITUD', 'LONGITUD', 'CPC', 'ID', 'id_tramite',\n",
       "       'FechaHabAprobada', 'Calle', 'Numero', 'Barrio', 'FechaVencimientoHab',\n",
       "       'razonsocial', 'NombreFantasia', 'RubroNombre', 'location-ID',\n",
       "       'last-date'],\n",
       "      dtype='object')"
      ]
     },
     "execution_count": 190,
     "metadata": {},
     "output_type": "execute_result"
    }
   ],
   "source": [
    "df.columns"
   ]
  },
  {
   "cell_type": "code",
   "execution_count": 191,
   "metadata": {},
   "outputs": [],
   "source": [
    "filtered = df.drop_duplicates(subset=['ID'])"
   ]
  },
  {
   "cell_type": "code",
   "execution_count": 192,
   "metadata": {},
   "outputs": [
    {
     "data": {
      "text/plain": [
       "515"
      ]
     },
     "execution_count": 192,
     "metadata": {},
     "output_type": "execute_result"
    }
   ],
   "source": [
    "len(filtered)"
   ]
  },
  {
   "cell_type": "code",
   "execution_count": 194,
   "metadata": {},
   "outputs": [],
   "source": [
    "filtered.to_excel(r\"C:\\Users\\agosa\\OneDrive\\Documents\\GitHub\\WorkSpace\\join-tables-5-11\\data\\fdata.xlsx\")"
   ]
  },
  {
   "cell_type": "code",
   "execution_count": 195,
   "metadata": {},
   "outputs": [
    {
     "data": {
      "text/plain": [
       "Index(['RUBRO', 'SUB-RUBRO', 'NOMBRE DE FANTASIA', 'DIRECCIÓN', 'RAZON SOCIAL',\n",
       "       'N° COMERCIO', 'CUIT', 'LATITUD', 'LONGITUD', 'CPC', 'ID', 'id_tramite',\n",
       "       'FechaHabAprobada', 'Calle', 'Numero', 'Barrio', 'FechaVencimientoHab',\n",
       "       'razonsocial', 'NombreFantasia', 'RubroNombre', 'location-ID',\n",
       "       'last-date'],\n",
       "      dtype='object')"
      ]
     },
     "execution_count": 195,
     "metadata": {},
     "output_type": "execute_result"
    }
   ],
   "source": [
    "dfr = filtered\n",
    "dfr.columns"
   ]
  },
  {
   "cell_type": "code",
   "execution_count": 196,
   "metadata": {},
   "outputs": [
    {
     "data": {
      "text/plain": [
       "0        0\n",
       "12       0\n",
       "18       0\n",
       "24       0\n",
       "42       0\n",
       "        ..\n",
       "15552    0\n",
       "15553    0\n",
       "15580    0\n",
       "15582    0\n",
       "15583    0\n",
       "Name: last-date, Length: 515, dtype: object"
      ]
     },
     "execution_count": 196,
     "metadata": {},
     "output_type": "execute_result"
    }
   ],
   "source": [
    "dfr[\"last-date\"]"
   ]
  }
 ],
 "metadata": {
  "kernelspec": {
   "display_name": "base",
   "language": "python",
   "name": "python3"
  },
  "language_info": {
   "codemirror_mode": {
    "name": "ipython",
    "version": 3
   },
   "file_extension": ".py",
   "mimetype": "text/x-python",
   "name": "python",
   "nbconvert_exporter": "python",
   "pygments_lexer": "ipython3",
   "version": "3.9.13"
  },
  "orig_nbformat": 4
 },
 "nbformat": 4,
 "nbformat_minor": 2
}
