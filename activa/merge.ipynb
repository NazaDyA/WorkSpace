{
 "cells": [
  {
   "cell_type": "code",
   "execution_count": 49,
   "metadata": {},
   "outputs": [],
   "source": [
    "import pandas as pd\n",
    "url1 = r\"../activa/data/hol_listado_empresas.xlsx\"\n",
    "url2 = r\"../activa/data/Activa_listado.xlsx\"\n",
    "df1 = pd.read_excel(url1)\n",
    "df2 = pd.read_excel(url2,sheet_name=1)\n"
   ]
  },
  {
   "cell_type": "code",
   "execution_count": 50,
   "metadata": {},
   "outputs": [],
   "source": [
    "#modules\n",
    "\n",
    "def cleanString(x:str):\n",
    "    x = x.split(\" \")\n",
    "    rt = []\n",
    "    for i in x:\n",
    "        if len(i)<=4:\n",
    "            continue\n",
    "        else:\n",
    "            rt.append(i)\n",
    "\n",
    "    return \"\".join(rt).strip()\n",
    "def str_clean(x):\n",
    "    data = []\n",
    "    index = 0\n",
    "\n",
    "    for i in x:\n",
    "        if i == \"_\" or i== \"-\":\n",
    "            continue\n",
    "        else:\n",
    "            data.append(i)\n",
    "    return \"\".join(data)\n",
    "def getNumber(x:str):\n",
    "    x = x.strip()\n",
    "    x = x.split()\n",
    "    return x[-1]\n",
    "import re\n",
    "def digitStract(x:str):\n",
    "    try:\n",
    "        return re.findall(r'\\d+', x)[0]\n",
    "    except:\n",
    "        return \"0000\""
   ]
  },
  {
   "cell_type": "code",
   "execution_count": 51,
   "metadata": {},
   "outputs": [],
   "source": [
    "df2[\"UniqueId\"] = df2[\"DIRECCIÓN\"].map(digitStract) + \"-\"+ df2[\"CUIT\"].astype(str)\n",
    "\n",
    "df1[\"cuitempresa\"] = df1[\"cuitempresa\"].map(str_clean)\n",
    "df1.columns = ['id_tramite', 'FechaHabAprobada', 'Calle', 'Numero', 'Barrio',\n",
    "       'FechaVencimientoHab', 'CUIT', 'razonsocial', 'NombreFantasia',\n",
    "       'RubroNombre']\n",
    "df1[\"UniqueId\"] = df1[\"Numero\"].map(digitStract) + \"-\"+ df1[\"CUIT\"].astype(str)\n",
    "\n",
    "\n",
    "\n",
    "df1[\"CUIT\"] = df1[\"CUIT\"].map(str_clean)\n",
    "df2[\"CUIT\"] = df2[\"CUIT\"].map(lambda x: str(x)).map(str_clean)"
   ]
  },
  {
   "cell_type": "code",
   "execution_count": 52,
   "metadata": {},
   "outputs": [
    {
     "name": "stderr",
     "output_type": "stream",
     "text": [
      "C:\\Users\\Usuario\\AppData\\Local\\Temp\\ipykernel_2296\\726270673.py:19: SettingWithCopyWarning: \n",
      "A value is trying to be set on a copy of a slice from a DataFrame\n",
      "\n",
      "See the caveats in the documentation: https://pandas.pydata.org/pandas-docs/stable/user_guide/indexing.html#returning-a-view-versus-a-copy\n",
      "  df1[\"last-date\"][i] = locationDate[r]\n"
     ]
    }
   ],
   "source": [
    "#extract last date\n",
    "df1[\"location-ID\"] = df1[\"Calle\"] + \" \" + df1[\"Numero\"].astype(str) + \" \" + df1[\"CUIT\"].astype(str)\n",
    "df1[\"FechaVencimientoHab\"] = df1[\"FechaVencimientoHab\"].astype(\"datetime64[D]\")\n",
    "df1[\"last-date\"] = 0\n",
    "\n",
    "locationDate = {}\n",
    "\n",
    "for i in df1[\"location-ID\"].unique():\n",
    "    subset = df1[df1[\"location-ID\"] == i]\n",
    "    if subset[\"FechaVencimientoHab\"].max():\n",
    "        locationDate[i] = subset[\"FechaVencimientoHab\"].max()\n",
    "    else:\n",
    "        locationDate[i] = subset[\"FechaVencimientoHab\"][0]\n",
    "locationDate\n",
    "\n",
    "for i in range(len(df1)):\n",
    "    r = df1[\"location-ID\"][i]\n",
    "    if r in locationDate.keys():\n",
    "        df1[\"last-date\"][i] = locationDate[r]\n"
   ]
  },
  {
   "cell_type": "code",
   "execution_count": 5,
   "metadata": {},
   "outputs": [],
   "source": [
    "#merge// Inner\n",
    "df = pd.merge(df2, df1, on='UniqueId')\n",
    "dfIn = df.drop_duplicates(subset=['ID'])\n",
    "\n",
    "dfIn.to_excel(r\"C:\\Users\\agosa\\OneDrive\\Documents\\GitHub\\WorkSpace\\join-tables-5-11\\data\\data-dir.xlsx\")\n",
    "\n",
    "#merge cuit\n",
    "\n",
    "df = pd.merge(df2, df1, on='CUIT')\n",
    "dfCit = df.drop_duplicates(subset=['ID'])\n",
    "\n",
    "dfIn.to_excel(r\"C:\\Users\\agosa\\OneDrive\\Documents\\GitHub\\WorkSpace\\join-tables-5-11\\data\\data-cuit.xlsx\")\n"
   ]
  },
  {
   "cell_type": "code",
   "execution_count": 80,
   "metadata": {},
   "outputs": [
    {
     "data": {
      "text/plain": [
       "Index(['RUBRO', 'SUB-RUBRO', 'NOMBRE DE FANTASIA', 'DIRECCIÓN', 'RAZON SOCIAL',\n",
       "       'N° COMERCIO', 'CUIT', 'LATITUD', 'LONGITUD', 'CPC', 'ID', 'UniqueId_x',\n",
       "       'id_tramite', 'FechaHabAprobada', 'Calle', 'Numero', 'Barrio',\n",
       "       'FechaVencimientoHab', 'razonsocial', 'NombreFantasia', 'RubroNombre',\n",
       "       'UniqueId_y', 'location-ID', 'last-date', 'Address'],\n",
       "      dtype='object')"
      ]
     },
     "execution_count": 80,
     "metadata": {},
     "output_type": "execute_result"
    }
   ],
   "source": [
    "df1[\"Address\"] = df1[\"Calle\"] + \" \" + df1[\"Numero\"].astype(str)\n",
    "df = pd.merge(df2, df1, on='CUIT')\n",
    "df.columns"
   ]
  },
  {
   "cell_type": "code",
   "execution_count": 82,
   "metadata": {},
   "outputs": [],
   "source": [
    "df[\"close\"] = arr\n",
    "df[\"validUniqueId\"] = df[\"UniqueId_x\"] == df[\"UniqueId_y\"]"
   ]
  },
  {
   "attachments": {},
   "cell_type": "markdown",
   "metadata": {},
   "source": [
    "----------------------------------"
   ]
  },
  {
   "attachments": {},
   "cell_type": "markdown",
   "metadata": {},
   "source": [
    "-----------------------------------"
   ]
  },
  {
   "cell_type": "code",
   "execution_count": 9,
   "metadata": {},
   "outputs": [
    {
     "data": {
      "text/plain": [
       "475"
      ]
     },
     "execution_count": 9,
     "metadata": {},
     "output_type": "execute_result"
    }
   ],
   "source": [
    "df = pd.merge(df2, df1, on='UniqueId')\n",
    "dfe = df.copy()\n",
    "dfe = dfe.drop_duplicates(subset=['id_tramite'])\n",
    "len(dfe)"
   ]
  },
  {
   "cell_type": "code",
   "execution_count": 10,
   "metadata": {},
   "outputs": [],
   "source": [
    "dfe.to_excel(r\"C:\\Users\\agosa\\OneDrive\\Documents\\GitHub\\WorkSpace\\join-tables-5-11\\data\\data475.xlsx\")"
   ]
  },
  {
   "cell_type": "code",
   "execution_count": null,
   "metadata": {},
   "outputs": [],
   "source": [
    "\"\"\"\n",
    "xx  = []\n",
    "for cada_cuit faltante\n",
    "    a = [\"activa\", cuit, calle, numero]  # 1 fila\n",
    "\tb = [\"hol\", cuit, calle, numero]  # 0 o mas filas\n",
    "\txx = concat(xx,a,b)\n",
    "\"\"\""
   ]
  },
  {
   "cell_type": "code",
   "execution_count": 42,
   "metadata": {},
   "outputs": [
    {
     "data": {
      "text/plain": [
       "259"
      ]
     },
     "execution_count": 42,
     "metadata": {},
     "output_type": "execute_result"
    }
   ],
   "source": [
    "dfCuit = pd.merge(df2, df1, on='CUIT')\n",
    "#dfCuit = dfCuit.drop_duplicates(subset=['id_tramite'])\n",
    "\n",
    "dfCuit[\"validUniqueId\"] = dfCuit[\"UniqueId_x\"] == dfCuit[\"UniqueId_y\"]\n",
    "len(dfCuit[\"CUIT\"].unique())"
   ]
  },
  {
   "cell_type": "code",
   "execution_count": 40,
   "metadata": {},
   "outputs": [],
   "source": [
    "dfCuit.to_excel(r\"C:\\Users\\agosa\\OneDrive\\Documents\\GitHub\\WorkSpace\\join-tables-5-11\\data\\dfCuit.xlsx\")"
   ]
  },
  {
   "cell_type": "code",
   "execution_count": 30,
   "metadata": {},
   "outputs": [],
   "source": [
    "arts = dfCuit[dfCuit[\"validUniqueId\"] == True]"
   ]
  },
  {
   "cell_type": "code",
   "execution_count": 31,
   "metadata": {},
   "outputs": [
    {
     "data": {
      "text/plain": [
       "475"
      ]
     },
     "execution_count": 31,
     "metadata": {},
     "output_type": "execute_result"
    }
   ],
   "source": [
    "arts = arts.drop_duplicates(subset=['id_tramite'])\n",
    "len(arts)"
   ]
  },
  {
   "attachments": {},
   "cell_type": "markdown",
   "metadata": {},
   "source": [
    "# final clean"
   ]
  },
  {
   "cell_type": "code",
   "execution_count": 3,
   "metadata": {},
   "outputs": [
    {
     "data": {
      "text/plain": [
       "501"
      ]
     },
     "execution_count": 3,
     "metadata": {},
     "output_type": "execute_result"
    }
   ],
   "source": [
    "import pandas as pd\n",
    "url = r\"../activa/data/dfCuit.xlsx\"\n",
    "df = pd.read_excel(url)\n",
    "len(df['DIRECCIÓN'].unique())"
   ]
  },
  {
   "cell_type": "code",
   "execution_count": 4,
   "metadata": {},
   "outputs": [
    {
     "data": {
      "text/plain": [
       "583"
      ]
     },
     "execution_count": 4,
     "metadata": {},
     "output_type": "execute_result"
    }
   ],
   "source": [
    "dfx = df[df[\"rt\"] == 1].copy()\n",
    "dfx = dfx.drop_duplicates(subset=['id_tramite'])\n",
    "len(dfx)"
   ]
  },
  {
   "cell_type": "code",
   "execution_count": 4,
   "metadata": {},
   "outputs": [],
   "source": [
    "dfx.to_excel(r\"../activa/data/data583.xlsx\")"
   ]
  },
  {
   "cell_type": "code",
   "execution_count": 2,
   "metadata": {},
   "outputs": [
    {
     "name": "stdout",
     "output_type": "stream",
     "text": [
      "Collecting fuzzywuzzy\n",
      "  Using cached fuzzywuzzy-0.18.0-py2.py3-none-any.whl (18 kB)\n",
      "Installing collected packages: fuzzywuzzy\n",
      "Successfully installed fuzzywuzzy-0.18.0\n",
      "Note: you may need to restart the kernel to use updated packages.\n"
     ]
    },
    {
     "name": "stderr",
     "output_type": "stream",
     "text": [
      "WARNING: You are using pip version 22.0.4; however, version 23.1.2 is available.\n",
      "You should consider upgrading via the 'c:\\Users\\Usuario\\AppData\\Local\\Programs\\Python\\Python310\\python.exe -m pip install --upgrade pip' command.\n"
     ]
    }
   ],
   "source": [
    "#pip install fuzzywuzzy"
   ]
  },
  {
   "cell_type": "code",
   "execution_count": 5,
   "metadata": {},
   "outputs": [
    {
     "data": {
      "text/plain": [
       "398"
      ]
     },
     "execution_count": 5,
     "metadata": {},
     "output_type": "execute_result"
    }
   ],
   "source": [
    "len(dfx.drop_duplicates(subset=['DIRECCIÓN']))"
   ]
  },
  {
   "cell_type": "code",
   "execution_count": 8,
   "metadata": {},
   "outputs": [],
   "source": [
    "dfx.drop_duplicates(subset=['DIRECCIÓN']).to_excel(r\"../activa/data/dataOneDir398.xlsx\")"
   ]
  },
  {
   "cell_type": "code",
   "execution_count": 9,
   "metadata": {},
   "outputs": [
    {
     "data": {
      "text/plain": [
       "398"
      ]
     },
     "execution_count": 9,
     "metadata": {},
     "output_type": "execute_result"
    }
   ],
   "source": [
    "df = dfx.drop_duplicates(subset=['DIRECCIÓN']).copy()\n",
    "len(df)"
   ]
  },
  {
   "cell_type": "code",
   "execution_count": 14,
   "metadata": {},
   "outputs": [
    {
     "data": {
      "text/plain": [
       "Index(['Unnamed: 0', 'RUBRO', 'SUB-RUBRO', 'NOMBRE DE FANTASIA', 'DIRECCIÓN',\n",
       "       'RAZON SOCIAL', 'CUIT', 'N° COMERCIO', 'LATITUD', 'LONGITUD', 'CPC',\n",
       "       'ID', 'UniqueId_x', 'id_tramite', 'FechaHabAprobada', 'Calle', 'Numero',\n",
       "       'Barrio', 'FechaVencimientoHab', 'razonsocial', 'NombreFantasia',\n",
       "       'RubroNombre', 'UniqueId_y', 'location-ID', 'last-date',\n",
       "       'validUniqueId', 'rt'],\n",
       "      dtype='object')"
      ]
     },
     "execution_count": 14,
     "metadata": {},
     "output_type": "execute_result"
    }
   ],
   "source": [
    "df.columns"
   ]
  },
  {
   "cell_type": "code",
   "execution_count": 15,
   "metadata": {},
   "outputs": [],
   "source": [
    "from laxFz import laxFz\n",
    "x = df[\"RAZON SOCIAL\"].to_list()\n",
    "y = df[\"razonsocial\"].to_list()\n",
    "\n",
    "arr = [laxFz(x[i],y[i]) for i in range(len(x))]\n",
    "\n",
    "df[\"Pr(RAZONSOCIAL=razonsocial)\"] = arr\n",
    "\n",
    "x = df[\"DIRECCIÓN\"].to_list()\n",
    "y = (df[\"Calle\"]+ \" \" + df[\"Numero\"]).to_list()\n",
    "\n",
    "arr = [laxFz(x[i],y[i]) for i in range(len(x))]\n",
    "\n",
    "df[\"Pr(DIRECCIÓN=Calle + Num)\"] = arr\n"
   ]
  },
  {
   "cell_type": "code",
   "execution_count": 16,
   "metadata": {},
   "outputs": [
    {
     "data": {
      "text/html": [
       "<div>\n",
       "<style scoped>\n",
       "    .dataframe tbody tr th:only-of-type {\n",
       "        vertical-align: middle;\n",
       "    }\n",
       "\n",
       "    .dataframe tbody tr th {\n",
       "        vertical-align: top;\n",
       "    }\n",
       "\n",
       "    .dataframe thead th {\n",
       "        text-align: right;\n",
       "    }\n",
       "</style>\n",
       "<table border=\"1\" class=\"dataframe\">\n",
       "  <thead>\n",
       "    <tr style=\"text-align: right;\">\n",
       "      <th></th>\n",
       "      <th>Unnamed: 0</th>\n",
       "      <th>RUBRO</th>\n",
       "      <th>SUB-RUBRO</th>\n",
       "      <th>NOMBRE DE FANTASIA</th>\n",
       "      <th>DIRECCIÓN</th>\n",
       "      <th>RAZON SOCIAL</th>\n",
       "      <th>CUIT</th>\n",
       "      <th>N° COMERCIO</th>\n",
       "      <th>LATITUD</th>\n",
       "      <th>LONGITUD</th>\n",
       "      <th>...</th>\n",
       "      <th>razonsocial</th>\n",
       "      <th>NombreFantasia</th>\n",
       "      <th>RubroNombre</th>\n",
       "      <th>UniqueId_y</th>\n",
       "      <th>location-ID</th>\n",
       "      <th>last-date</th>\n",
       "      <th>validUniqueId</th>\n",
       "      <th>rt</th>\n",
       "      <th>Pr(RAZONSOCIAL=razonsocial)</th>\n",
       "      <th>Pr(DIRECCIÓN=Calle + Num)</th>\n",
       "    </tr>\n",
       "  </thead>\n",
       "  <tbody>\n",
       "    <tr>\n",
       "      <th>2</th>\n",
       "      <td>9925</td>\n",
       "      <td>MODA Y ACCESORIOS</td>\n",
       "      <td>Indumentaria Deportiva</td>\n",
       "      <td>Libero Sport</td>\n",
       "      <td>San Martin 154</td>\n",
       "      <td>Vallari Edgardo Pedro</td>\n",
       "      <td>2.006122e+10</td>\n",
       "      <td>43946201</td>\n",
       "      <td>-31.4138695878163</td>\n",
       "      <td>-64.1833605315984</td>\n",
       "      <td>...</td>\n",
       "      <td>VALLARI EDGARDO PEDRO</td>\n",
       "      <td>LIBERO SPORT</td>\n",
       "      <td>Venta al por menor de calzado. Zapaterías y za...</td>\n",
       "      <td>154-20061224247</td>\n",
       "      <td>SAN MARTIN  154 20061224247</td>\n",
       "      <td>2024-03-06</td>\n",
       "      <td>True</td>\n",
       "      <td>1</td>\n",
       "      <td>100</td>\n",
       "      <td>97</td>\n",
       "    </tr>\n",
       "    <tr>\n",
       "      <th>16</th>\n",
       "      <td>9939</td>\n",
       "      <td>MODA Y ACCESORIOS</td>\n",
       "      <td>Indumentaria Deportiva</td>\n",
       "      <td>Libero Sport</td>\n",
       "      <td>San Martin 259</td>\n",
       "      <td>Vallari Edgardo Pedro</td>\n",
       "      <td>2.006122e+10</td>\n",
       "      <td>43946201</td>\n",
       "      <td>-31.4128951293021</td>\n",
       "      <td>-64.1828570027624</td>\n",
       "      <td>...</td>\n",
       "      <td>EDGARDO PEDRO VALLARI</td>\n",
       "      <td>LIBERO SPORT</td>\n",
       "      <td>Venta al por menor de calzado. Zapaterías y za...</td>\n",
       "      <td>259-20061224247</td>\n",
       "      <td>SAN MARTIN  259 20061224247</td>\n",
       "      <td>2023-11-29</td>\n",
       "      <td>True</td>\n",
       "      <td>1</td>\n",
       "      <td>62</td>\n",
       "      <td>97</td>\n",
       "    </tr>\n",
       "    <tr>\n",
       "      <th>26</th>\n",
       "      <td>9949</td>\n",
       "      <td>MODA Y ACCESORIOS</td>\n",
       "      <td>Indumentaria Deportiva</td>\n",
       "      <td>Libero Sport</td>\n",
       "      <td>San Martin 339</td>\n",
       "      <td>Vallari Edgardo Pedro</td>\n",
       "      <td>2.006122e+10</td>\n",
       "      <td>43946201</td>\n",
       "      <td>-31.4119387270623</td>\n",
       "      <td>-64.1825269739263</td>\n",
       "      <td>...</td>\n",
       "      <td>EDGARDO PEDRO VALLARI</td>\n",
       "      <td>NaN</td>\n",
       "      <td>Depósitos y almacenamientos en general, except...</td>\n",
       "      <td>339-20061224247</td>\n",
       "      <td>SAN MARTIN  339 20061224247</td>\n",
       "      <td>2025-12-17</td>\n",
       "      <td>True</td>\n",
       "      <td>1</td>\n",
       "      <td>62</td>\n",
       "      <td>97</td>\n",
       "    </tr>\n",
       "    <tr>\n",
       "      <th>39</th>\n",
       "      <td>9962</td>\n",
       "      <td>MODA Y ACCESORIOS</td>\n",
       "      <td>Indumentaria Deportiva</td>\n",
       "      <td>Libero Advance</td>\n",
       "      <td>9 de Julio 76</td>\n",
       "      <td>Vallari Edgardo Pedro</td>\n",
       "      <td>2.006122e+10</td>\n",
       "      <td>43946201</td>\n",
       "      <td>-31.4142606448888</td>\n",
       "      <td>-64.1845408027623</td>\n",
       "      <td>...</td>\n",
       "      <td>EDGARDO PEDRO VALLARI</td>\n",
       "      <td>LIBERO ADVANCE</td>\n",
       "      <td>Venta al por menor de calzado. Zapaterías y za...</td>\n",
       "      <td>68-20061224247</td>\n",
       "      <td>9 DE JULIO  68/76 20061224247</td>\n",
       "      <td>2023-12-06</td>\n",
       "      <td>VERDADERO</td>\n",
       "      <td>1</td>\n",
       "      <td>62</td>\n",
       "      <td>87</td>\n",
       "    </tr>\n",
       "    <tr>\n",
       "      <th>55</th>\n",
       "      <td>8794</td>\n",
       "      <td>TIEMPO LIBRE</td>\n",
       "      <td>Hobbys</td>\n",
       "      <td>Ruben Libros</td>\n",
       "      <td>Dean Funes 163 L1</td>\n",
       "      <td>Bernardo Ruben Goldbery</td>\n",
       "      <td>2.006698e+10</td>\n",
       "      <td>42885517</td>\n",
       "      <td>-31.415274634881</td>\n",
       "      <td>-64.1861867743792</td>\n",
       "      <td>...</td>\n",
       "      <td>BERNARDO RUBEN GOLDBERG</td>\n",
       "      <td>RUBEN LIBROS</td>\n",
       "      <td>Venta al por mayor de textos nuevos</td>\n",
       "      <td>163-20066982190</td>\n",
       "      <td>DEAN GREGORIO FUNES  163 20066982190</td>\n",
       "      <td>2021-11-29</td>\n",
       "      <td>True</td>\n",
       "      <td>1</td>\n",
       "      <td>96</td>\n",
       "      <td>68</td>\n",
       "    </tr>\n",
       "    <tr>\n",
       "      <th>...</th>\n",
       "      <td>...</td>\n",
       "      <td>...</td>\n",
       "      <td>...</td>\n",
       "      <td>...</td>\n",
       "      <td>...</td>\n",
       "      <td>...</td>\n",
       "      <td>...</td>\n",
       "      <td>...</td>\n",
       "      <td>...</td>\n",
       "      <td>...</td>\n",
       "      <td>...</td>\n",
       "      <td>...</td>\n",
       "      <td>...</td>\n",
       "      <td>...</td>\n",
       "      <td>...</td>\n",
       "      <td>...</td>\n",
       "      <td>...</td>\n",
       "      <td>...</td>\n",
       "      <td>...</td>\n",
       "      <td>...</td>\n",
       "      <td>...</td>\n",
       "    </tr>\n",
       "    <tr>\n",
       "      <th>15538</th>\n",
       "      <td>0</td>\n",
       "      <td>ALMACENES</td>\n",
       "      <td>Almacén</td>\n",
       "      <td>Alto Tejeda</td>\n",
       "      <td>Gregorio Gavier 2005</td>\n",
       "      <td>Alto Tejeda</td>\n",
       "      <td>3.371141e+10</td>\n",
       "      <td>23251869</td>\n",
       "      <td>-31.3682367854621</td>\n",
       "      <td>-64.2354533604359</td>\n",
       "      <td>...</td>\n",
       "      <td>ALTO TEJEDA S.A.</td>\n",
       "      <td>ALTO TEJEDDA</td>\n",
       "      <td>Almacén de comestibles</td>\n",
       "      <td>2005-33711410959</td>\n",
       "      <td>GREGORIO YGNACIO GAVIER  2005 33711410959</td>\n",
       "      <td>2022-12-27</td>\n",
       "      <td>True</td>\n",
       "      <td>1</td>\n",
       "      <td>81</td>\n",
       "      <td>82</td>\n",
       "    </tr>\n",
       "    <tr>\n",
       "      <th>15551</th>\n",
       "      <td>13</td>\n",
       "      <td>ALMACENES</td>\n",
       "      <td>Almacén</td>\n",
       "      <td>Alto Tejeda</td>\n",
       "      <td>Menendez Pidal 3748</td>\n",
       "      <td>Alto Tejeda</td>\n",
       "      <td>3.371141e+10</td>\n",
       "      <td>23251906</td>\n",
       "      <td>-31.3837978795171</td>\n",
       "      <td>-64.2347474315994</td>\n",
       "      <td>...</td>\n",
       "      <td>ALTO TEJEDA S.A.</td>\n",
       "      <td>ALTO TEJEDA</td>\n",
       "      <td>Bar, confiterías, pizzerías, lomiterías, empan...</td>\n",
       "      <td>3748-33711410959</td>\n",
       "      <td>AV RAMON MENENDEZ PIDAL  3748 33711410959</td>\n",
       "      <td>2023-06-22</td>\n",
       "      <td>True</td>\n",
       "      <td>1</td>\n",
       "      <td>81</td>\n",
       "      <td>79</td>\n",
       "    </tr>\n",
       "    <tr>\n",
       "      <th>15558</th>\n",
       "      <td>20</td>\n",
       "      <td>ALMACENES</td>\n",
       "      <td>Almacén</td>\n",
       "      <td>Alto Tejeda</td>\n",
       "      <td>Av. Rafael Nuñez 6107</td>\n",
       "      <td>Alto Tejeda</td>\n",
       "      <td>3.371141e+10</td>\n",
       "      <td>23251947</td>\n",
       "      <td>-31.3461386961099</td>\n",
       "      <td>-64.2507192892727</td>\n",
       "      <td>...</td>\n",
       "      <td>ALTO TEJEDA S.A</td>\n",
       "      <td>ALTO TEJEDA</td>\n",
       "      <td>Bar, confiterías, pizzerías, lomiterías, empan...</td>\n",
       "      <td>6107-33711410959</td>\n",
       "      <td>AV DR RAFAEL NUÑEZ  6107 33711410959</td>\n",
       "      <td>2024-02-27</td>\n",
       "      <td>True</td>\n",
       "      <td>1</td>\n",
       "      <td>85</td>\n",
       "      <td>89</td>\n",
       "    </tr>\n",
       "    <tr>\n",
       "      <th>15580</th>\n",
       "      <td>13909</td>\n",
       "      <td>HOGAR Y DECO</td>\n",
       "      <td>Ferretería y Construcción</td>\n",
       "      <td>Ferreteria Battiston</td>\n",
       "      <td>Bulnes 3954</td>\n",
       "      <td>Battiston Franco</td>\n",
       "      <td>3.371401e+10</td>\n",
       "      <td>28629572</td>\n",
       "      <td>-31.390519993193</td>\n",
       "      <td>-64.1389988407215</td>\n",
       "      <td>...</td>\n",
       "      <td>BATTISTON FRANCO A. Y BATTISTON ROMINA P. S.H.</td>\n",
       "      <td>\"FERRETERIA BATTISTON\"</td>\n",
       "      <td>Venta al por menor de artículos de ferretería....</td>\n",
       "      <td>3954-33714007799</td>\n",
       "      <td>BV EDUARDO BULNES  3954 33714007799</td>\n",
       "      <td>2020-01-07</td>\n",
       "      <td>True</td>\n",
       "      <td>1</td>\n",
       "      <td>52</td>\n",
       "      <td>65</td>\n",
       "    </tr>\n",
       "    <tr>\n",
       "      <th>15582</th>\n",
       "      <td>8785</td>\n",
       "      <td>OTROS</td>\n",
       "      <td>Tecnología</td>\n",
       "      <td>Rock Music</td>\n",
       "      <td>Rivera Indarte 360</td>\n",
       "      <td>Pro Music Sds</td>\n",
       "      <td>3.371661e+10</td>\n",
       "      <td>26262910</td>\n",
       "      <td>-31.4114138258332</td>\n",
       "      <td>-64.1833853027451</td>\n",
       "      <td>...</td>\n",
       "      <td>PRO MUSIC S.A.S.</td>\n",
       "      <td>NaN</td>\n",
       "      <td>Venta al por menor de artículos electrónicos, ...</td>\n",
       "      <td>360-33716607459</td>\n",
       "      <td>RIVERA INDARTE  360 33716607459</td>\n",
       "      <td>2025-02-18</td>\n",
       "      <td>True</td>\n",
       "      <td>1</td>\n",
       "      <td>83</td>\n",
       "      <td>97</td>\n",
       "    </tr>\n",
       "  </tbody>\n",
       "</table>\n",
       "<p>398 rows × 29 columns</p>\n",
       "</div>"
      ],
      "text/plain": [
       "       Unnamed: 0              RUBRO                  SUB-RUBRO  \\\n",
       "2            9925  MODA Y ACCESORIOS     Indumentaria Deportiva   \n",
       "16           9939  MODA Y ACCESORIOS     Indumentaria Deportiva   \n",
       "26           9949  MODA Y ACCESORIOS     Indumentaria Deportiva   \n",
       "39           9962  MODA Y ACCESORIOS     Indumentaria Deportiva   \n",
       "55           8794       TIEMPO LIBRE                     Hobbys   \n",
       "...           ...                ...                        ...   \n",
       "15538           0          ALMACENES                    Almacén   \n",
       "15551          13          ALMACENES                    Almacén   \n",
       "15558          20          ALMACENES                    Almacén   \n",
       "15580       13909       HOGAR Y DECO  Ferretería y Construcción   \n",
       "15582        8785              OTROS                 Tecnología   \n",
       "\n",
       "         NOMBRE DE FANTASIA              DIRECCIÓN             RAZON SOCIAL  \\\n",
       "2              Libero Sport         San Martin 154    Vallari Edgardo Pedro   \n",
       "16             Libero Sport         San Martin 259    Vallari Edgardo Pedro   \n",
       "26             Libero Sport         San Martin 339    Vallari Edgardo Pedro   \n",
       "39           Libero Advance          9 de Julio 76    Vallari Edgardo Pedro   \n",
       "55             Ruben Libros      Dean Funes 163 L1  Bernardo Ruben Goldbery   \n",
       "...                     ...                    ...                      ...   \n",
       "15538           Alto Tejeda   Gregorio Gavier 2005              Alto Tejeda   \n",
       "15551           Alto Tejeda    Menendez Pidal 3748              Alto Tejeda   \n",
       "15558           Alto Tejeda  Av. Rafael Nuñez 6107              Alto Tejeda   \n",
       "15580  Ferreteria Battiston            Bulnes 3954         Battiston Franco   \n",
       "15582            Rock Music     Rivera Indarte 360            Pro Music Sds   \n",
       "\n",
       "               CUIT N° COMERCIO            LATITUD           LONGITUD  ...  \\\n",
       "2      2.006122e+10    43946201  -31.4138695878163  -64.1833605315984  ...   \n",
       "16     2.006122e+10    43946201  -31.4128951293021  -64.1828570027624  ...   \n",
       "26     2.006122e+10    43946201  -31.4119387270623  -64.1825269739263  ...   \n",
       "39     2.006122e+10    43946201  -31.4142606448888  -64.1845408027623  ...   \n",
       "55     2.006698e+10    42885517   -31.415274634881  -64.1861867743792  ...   \n",
       "...             ...         ...                ...                ...  ...   \n",
       "15538  3.371141e+10    23251869  -31.3682367854621  -64.2354533604359  ...   \n",
       "15551  3.371141e+10    23251906  -31.3837978795171  -64.2347474315994  ...   \n",
       "15558  3.371141e+10    23251947  -31.3461386961099  -64.2507192892727  ...   \n",
       "15580  3.371401e+10    28629572   -31.390519993193  -64.1389988407215  ...   \n",
       "15582  3.371661e+10    26262910  -31.4114138258332  -64.1833853027451  ...   \n",
       "\n",
       "                                          razonsocial          NombreFantasia  \\\n",
       "2                               VALLARI EDGARDO PEDRO            LIBERO SPORT   \n",
       "16                              EDGARDO PEDRO VALLARI            LIBERO SPORT   \n",
       "26                              EDGARDO PEDRO VALLARI                     NaN   \n",
       "39                              EDGARDO PEDRO VALLARI          LIBERO ADVANCE   \n",
       "55                            BERNARDO RUBEN GOLDBERG            RUBEN LIBROS   \n",
       "...                                               ...                     ...   \n",
       "15538                                ALTO TEJEDA S.A.            ALTO TEJEDDA   \n",
       "15551                                ALTO TEJEDA S.A.             ALTO TEJEDA   \n",
       "15558                                 ALTO TEJEDA S.A             ALTO TEJEDA   \n",
       "15580  BATTISTON FRANCO A. Y BATTISTON ROMINA P. S.H.  \"FERRETERIA BATTISTON\"   \n",
       "15582                                PRO MUSIC S.A.S.                     NaN   \n",
       "\n",
       "                                             RubroNombre        UniqueId_y  \\\n",
       "2      Venta al por menor de calzado. Zapaterías y za...   154-20061224247   \n",
       "16     Venta al por menor de calzado. Zapaterías y za...   259-20061224247   \n",
       "26     Depósitos y almacenamientos en general, except...   339-20061224247   \n",
       "39     Venta al por menor de calzado. Zapaterías y za...    68-20061224247   \n",
       "55                   Venta al por mayor de textos nuevos   163-20066982190   \n",
       "...                                                  ...               ...   \n",
       "15538                             Almacén de comestibles  2005-33711410959   \n",
       "15551  Bar, confiterías, pizzerías, lomiterías, empan...  3748-33711410959   \n",
       "15558  Bar, confiterías, pizzerías, lomiterías, empan...  6107-33711410959   \n",
       "15580  Venta al por menor de artículos de ferretería....  3954-33714007799   \n",
       "15582  Venta al por menor de artículos electrónicos, ...   360-33716607459   \n",
       "\n",
       "                                      location-ID  last-date validUniqueId rt  \\\n",
       "2                     SAN MARTIN  154 20061224247 2024-03-06          True  1   \n",
       "16                    SAN MARTIN  259 20061224247 2023-11-29          True  1   \n",
       "26                    SAN MARTIN  339 20061224247 2025-12-17          True  1   \n",
       "39                  9 DE JULIO  68/76 20061224247 2023-12-06     VERDADERO  1   \n",
       "55           DEAN GREGORIO FUNES  163 20066982190 2021-11-29          True  1   \n",
       "...                                           ...        ...           ... ..   \n",
       "15538   GREGORIO YGNACIO GAVIER  2005 33711410959 2022-12-27          True  1   \n",
       "15551   AV RAMON MENENDEZ PIDAL  3748 33711410959 2023-06-22          True  1   \n",
       "15558        AV DR RAFAEL NUÑEZ  6107 33711410959 2024-02-27          True  1   \n",
       "15580         BV EDUARDO BULNES  3954 33714007799 2020-01-07          True  1   \n",
       "15582             RIVERA INDARTE  360 33716607459 2025-02-18          True  1   \n",
       "\n",
       "      Pr(RAZONSOCIAL=razonsocial) Pr(DIRECCIÓN=Calle + Num)  \n",
       "2                             100                        97  \n",
       "16                             62                        97  \n",
       "26                             62                        97  \n",
       "39                             62                        87  \n",
       "55                             96                        68  \n",
       "...                           ...                       ...  \n",
       "15538                          81                        82  \n",
       "15551                          81                        79  \n",
       "15558                          85                        89  \n",
       "15580                          52                        65  \n",
       "15582                          83                        97  \n",
       "\n",
       "[398 rows x 29 columns]"
      ]
     },
     "execution_count": 16,
     "metadata": {},
     "output_type": "execute_result"
    }
   ],
   "source": [
    "df"
   ]
  },
  {
   "cell_type": "code",
   "execution_count": 17,
   "metadata": {},
   "outputs": [],
   "source": [
    "\n",
    "df.to_excel(r\"../activa/data/dataOneDir398AddProb.xlsx\")"
   ]
  },
  {
   "cell_type": "code",
   "execution_count": 13,
   "metadata": {},
   "outputs": [],
   "source": [
    "\n",
    "\n",
    "#df.to_excel(r\"../activa/data/dfCuitAddProb.xlsx\")\n"
   ]
  },
  {
   "cell_type": "code",
   "execution_count": 16,
   "metadata": {},
   "outputs": [
    {
     "data": {
      "text/plain": [
       "2979"
      ]
     },
     "execution_count": 16,
     "metadata": {},
     "output_type": "execute_result"
    }
   ],
   "source": [
    "df[\"E-Commerce\"] = df[\"DIRECCIÓN\"].map(lambda x: x==\"E-Commerce\")\n",
    "df[\"No-Cba\"] = df[\"DIRECCIÓN\"].map(lambda x: x.strip()[-1]==\")\")"
   ]
  },
  {
   "attachments": {},
   "cell_type": "markdown",
   "metadata": {},
   "source": [
    "## datos obtenidos"
   ]
  },
  {
   "attachments": {},
   "cell_type": "markdown",
   "metadata": {},
   "source": [
    "### obtencion y preceso de datos previamente mergeados"
   ]
  },
  {
   "attachments": {},
   "cell_type": "markdown",
   "metadata": {},
   "source": [
    "- se obtubo por un proceso de merge de 2 bases de datos el excel dfCuit el cual fue tratado manualmente para casos de coincidencias NO exactas.\n",
    "- se empleo la libreria 'fuzzywuzzy' para calcular las probabilidades de que las razones sociales tanto como las direcciones dieran una coincidencia\n",
    "- se agrego una columna en la cua se identifica a las 'E-Commerce'\n",
    "- se agrego una columna en la que se identifica cuaes direcciones no pertenecen a la ciudad. todas terminan con un parentesis de cierre."
   ]
  },
  {
   "cell_type": "code",
   "execution_count": 17,
   "metadata": {},
   "outputs": [],
   "source": [
    "from laxFz import laxFz\n",
    "\n",
    "url = r\"../activa/data/dfCuit.xlsx\"\n",
    "df = pd.read_excel(url)\n",
    "\n",
    "\n",
    "x = df[\"RAZON SOCIAL\"].to_list()\n",
    "y = df[\"razonsocial\"].to_list()\n",
    "\n",
    "arr = [laxFz(x[i],y[i]) for i in range(len(x))]\n",
    "\n",
    "df[\"Pr(RAZONSOCIAL=razonsocial)\"] = arr\n",
    "\n",
    "x = df[\"DIRECCIÓN\"].to_list()\n",
    "y = (df[\"Calle\"]+ \" \" + df[\"Numero\"]).to_list()\n",
    "\n",
    "arr = [laxFz(x[i],y[i]) for i in range(len(x))]\n",
    "\n",
    "df[\"Pr(DIRECCIÓN=Calle + Num)\"] = arr\n",
    "\n",
    "df[\"E-Commerce\"] = df[\"DIRECCIÓN\"].map(lambda x: x==\"E-Commerce\")\n",
    "df[\"No-Cba\"] = df[\"DIRECCIÓN\"].map(lambda x: x.strip()[-1]==\")\")"
   ]
  },
  {
   "attachments": {},
   "cell_type": "markdown",
   "metadata": {},
   "source": [
    "se trabajara para la descripcion con direcciones unicas correspondientes a la base de datos 'Activa'."
   ]
  },
  {
   "cell_type": "code",
   "execution_count": 24,
   "metadata": {},
   "outputs": [
    {
     "name": "stdout",
     "output_type": "stream",
     "text": [
      "direcciones unicas: 504 \n",
      "Fuera de Cba: 29\n",
      "E-Commerce: 4\n"
     ]
    }
   ],
   "source": [
    "#identificacion de E-Commerce\n",
    "dfUniqueDir = df.copy()\n",
    "dfUniqueDir[\"DIRECCIÓN\"]\n",
    "def eCommerceUnique(row):\n",
    "    if row['DIRECCIÓN'] == 'E-Commerce':\n",
    "        return row['DIRECCIÓN'] + str(row['CUIT'])\n",
    "    else:\n",
    "        return row['DIRECCIÓN']\n",
    "\n",
    "df['DIRECCIÓN'] = df.apply(eCommerceUnique, axis=1)\n",
    "dfUniqueDir = df.drop_duplicates(\"DIRECCIÓN\")\n",
    "\n",
    "print(f'direcciones unicas: {len(dfUniqueDir)} ')\n",
    "print(f'Fuera de Cba: {dfUniqueDir[\"No-Cba\"].sum()}')\n",
    "print(f'E-Commerce: {dfUniqueDir[\"E-Commerce\"].sum()}')\n"
   ]
  },
  {
   "attachments": {},
   "cell_type": "markdown",
   "metadata": {},
   "source": [
    "Datos E-Commerce"
   ]
  },
  {
   "cell_type": "code",
   "execution_count": 26,
   "metadata": {},
   "outputs": [],
   "source": [
    "df[df[\"E-Commerce\"] == 1].to_excel(r\"../activa/data/dataECommerce.xlsx\")"
   ]
  },
  {
   "attachments": {},
   "cell_type": "markdown",
   "metadata": {},
   "source": [
    "Datos Fuera de Cba"
   ]
  },
  {
   "cell_type": "code",
   "execution_count": 27,
   "metadata": {},
   "outputs": [],
   "source": [
    "df[df[\"No-Cba\"] == 1].to_excel(r\"../activa/data/dataNoCba.xlsx\")"
   ]
  },
  {
   "attachments": {},
   "cell_type": "markdown",
   "metadata": {},
   "source": [
    "### datos para mapeo"
   ]
  },
  {
   "attachments": {},
   "cell_type": "markdown",
   "metadata": {},
   "source": [
    "en este caso de trabajara solo con los datos que en la verificacion tanto automatica como manual hayan obtenido 'True' en su verificacion, reasignado a la columna 'rt'. y su id_tramite sea UNICO."
   ]
  },
  {
   "cell_type": "code",
   "execution_count": 28,
   "metadata": {},
   "outputs": [
    {
     "data": {
      "text/plain": [
       "583"
      ]
     },
     "execution_count": 28,
     "metadata": {},
     "output_type": "execute_result"
    }
   ],
   "source": [
    "dfx = df[df[\"rt\"] == 1].copy()\n",
    "dfx = dfx.drop_duplicates(subset=['id_tramite'])\n",
    "dfx.to_excel(r\"../activa/data/coincidencias-ciut.xlsx\")\n",
    "len(dfx)"
   ]
  },
  {
   "attachments": {},
   "cell_type": "markdown",
   "metadata": {},
   "source": [
    "si bien el id de tramite es unico, se estan dupicando direcciones, lo cual es impractico para el mapeo. se quitaran direccines distintas."
   ]
  },
  {
   "cell_type": "code",
   "execution_count": 29,
   "metadata": {},
   "outputs": [
    {
     "data": {
      "text/plain": [
       "398"
      ]
     },
     "execution_count": 29,
     "metadata": {},
     "output_type": "execute_result"
    }
   ],
   "source": [
    "dfx = dfx.drop_duplicates(subset=['DIRECCIÓN'])\n",
    "dfx.to_excel(r\"../activa/data/coincidencias-ciut-direccion-unica.xlsx\")\n",
    "len(dfx)"
   ]
  }
 ],
 "metadata": {
  "kernelspec": {
   "display_name": "base",
   "language": "python",
   "name": "python3"
  },
  "language_info": {
   "codemirror_mode": {
    "name": "ipython",
    "version": 3
   },
   "file_extension": ".py",
   "mimetype": "text/x-python",
   "name": "python",
   "nbconvert_exporter": "python",
   "pygments_lexer": "ipython3",
   "version": "3.9.13"
  },
  "orig_nbformat": 4
 },
 "nbformat": 4,
 "nbformat_minor": 2
}
