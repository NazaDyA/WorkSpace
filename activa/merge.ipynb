{
 "cells": [
  {
   "cell_type": "code",
   "execution_count": 12,
   "metadata": {},
   "outputs": [],
   "source": [
    "import pandas as pd\n",
    "url1 = r\"../activa/data/hol_listado_empresas.xlsx\"\n",
    "url2 = r\"../activa/data/Activa_listado.xlsx\"\n",
    "df1 = pd.read_excel(url1)\n",
    "df2 = pd.read_excel(url2,sheet_name=1)\n"
   ]
  },
  {
   "cell_type": "code",
   "execution_count": 16,
   "metadata": {},
   "outputs": [],
   "source": [
    "#modules\n",
    "\n",
    "def cleanString(x:str):\n",
    "    x = x.split(\" \")\n",
    "    rt = []\n",
    "    for i in x:\n",
    "        if len(i)<=4:\n",
    "            continue\n",
    "        else:\n",
    "            rt.append(i)\n",
    "\n",
    "    return \"\".join(rt).strip()\n",
    "def str_clean(x):\n",
    "    data = []\n",
    "    index = 0\n",
    "\n",
    "    for i in x:\n",
    "        if i == \"_\" or i== \"-\":\n",
    "            continue\n",
    "        else:\n",
    "            data.append(i)\n",
    "    return \"\".join(data)\n",
    "def getNumber(x:str):\n",
    "    x = x.strip()\n",
    "    x = x.split()\n",
    "    return x[-1]\n",
    "import re\n",
    "def digitStract(x:str):\n",
    "    try:\n",
    "        return re.findall(r'\\d+', x)[0]\n",
    "    except:\n",
    "        return \"0000\""
   ]
  },
  {
   "cell_type": "code",
   "execution_count": 17,
   "metadata": {},
   "outputs": [],
   "source": [
    "df2[\"UniqueId\"] = df2[\"DIRECCIÓN\"].map(digitStract) + \"-\"+ df2[\"CUIT\"].astype(str)\n",
    "\n",
    "df1[\"cuitempresa\"] = df1[\"cuitempresa\"].map(str_clean)\n",
    "df1.columns = ['id_tramite', 'FechaHabAprobada', 'Calle', 'Numero', 'Barrio',\n",
    "       'FechaVencimientoHab', 'CUIT', 'razonsocial', 'NombreFantasia',\n",
    "       'RubroNombre']\n",
    "df1[\"UniqueId\"] = df1[\"Numero\"].map(digitStract) + \"-\"+ df1[\"CUIT\"].astype(str)\n",
    "\n",
    "\n",
    "\n",
    "df1[\"CUIT\"] = df1[\"CUIT\"].map(str_clean)\n",
    "df2[\"CUIT\"] = df2[\"CUIT\"].map(lambda x: str(x)).map(str_clean)"
   ]
  },
  {
   "cell_type": "code",
   "execution_count": 18,
   "metadata": {},
   "outputs": [],
   "source": [
    "#extract last date\n",
    "df1[\"location-ID\"] = df1[\"Calle\"] + \" \" + df1[\"Numero\"].astype(str) + \" \" + df1[\"CUIT\"].astype(str)\n",
    "df1[\"FechaVencimientoHab\"] = df1[\"FechaVencimientoHab\"].astype(\"datetime64[D]\")\n",
    "df1[\"last-date\"] = 0\n",
    "\n",
    "locationDate = {}\n",
    "\n",
    "for i in df1[\"location-ID\"].unique():\n",
    "    subset = df1[df1[\"location-ID\"] == i]\n",
    "    if subset[\"FechaVencimientoHab\"].max():\n",
    "        locationDate[i] = subset[\"FechaVencimientoHab\"].max()\n",
    "    else:\n",
    "        locationDate[i] = subset[\"FechaVencimientoHab\"][0]\n",
    "locationDate\n",
    "\n",
    "for i in range(len(df1)):\n",
    "    r = df1[\"location-ID\"][i]\n",
    "    if r in locationDate.keys():\n",
    "        df1[\"last-date\"][i] = locationDate[r]\n"
   ]
  },
  {
   "cell_type": "code",
   "execution_count": 5,
   "metadata": {},
   "outputs": [],
   "source": [
    "#merge// Inner\n",
    "df = pd.merge(df2, df1, on='UniqueId')\n",
    "dfIn = df.drop_duplicates(subset=['ID'])\n",
    "\n",
    "dfIn.to_excel(r\"C:\\Users\\agosa\\OneDrive\\Documents\\GitHub\\WorkSpace\\join-tables-5-11\\data\\data-dir.xlsx\")\n",
    "\n",
    "#merge cuit\n",
    "\n",
    "df = pd.merge(df2, df1, on='CUIT')\n",
    "dfCit = df.drop_duplicates(subset=['ID'])\n",
    "\n",
    "dfIn.to_excel(r\"C:\\Users\\agosa\\OneDrive\\Documents\\GitHub\\WorkSpace\\join-tables-5-11\\data\\data-cuit.xlsx\")\n"
   ]
  },
  {
   "cell_type": "code",
   "execution_count": 6,
   "metadata": {},
   "outputs": [
    {
     "data": {
      "text/plain": [
       "Index(['RUBRO', 'SUB-RUBRO', 'NOMBRE DE FANTASIA', 'DIRECCIÓN', 'RAZON SOCIAL',\n",
       "       'N° COMERCIO', 'CUIT', 'LATITUD', 'LONGITUD', 'CPC', 'ID', 'UniqueId_x',\n",
       "       'id_tramite', 'FechaHabAprobada', 'Calle', 'Numero', 'Barrio',\n",
       "       'FechaVencimientoHab', 'razonsocial', 'NombreFantasia', 'RubroNombre',\n",
       "       'UniqueId_y', 'location-ID', 'last-date'],\n",
       "      dtype='object')"
      ]
     },
     "execution_count": 6,
     "metadata": {},
     "output_type": "execute_result"
    }
   ],
   "source": [
    "df = pd.merge(df2, df1, on='CUIT')\n",
    "df.columns"
   ]
  },
  {
   "cell_type": "code",
   "execution_count": 9,
   "metadata": {},
   "outputs": [
    {
     "data": {
      "text/plain": [
       "475"
      ]
     },
     "execution_count": 9,
     "metadata": {},
     "output_type": "execute_result"
    }
   ],
   "source": [
    "df = pd.merge(df2, df1, on='UniqueId')\n",
    "dfe = df.copy()\n",
    "dfe = dfe.drop_duplicates(subset=['id_tramite'])\n",
    "len(dfe)"
   ]
  },
  {
   "cell_type": "code",
   "execution_count": 10,
   "metadata": {},
   "outputs": [],
   "source": [
    "dfe.to_excel(r\"C:\\Users\\agosa\\OneDrive\\Documents\\GitHub\\WorkSpace\\join-tables-5-11\\data\\data475.xlsx\")"
   ]
  },
  {
   "cell_type": "code",
   "execution_count": null,
   "metadata": {},
   "outputs": [],
   "source": [
    "\"\"\"\n",
    "xx  = []\n",
    "for cada_cuit faltante\n",
    "    a = [\"activa\", cuit, calle, numero]  # 1 fila\n",
    "\tb = [\"hol\", cuit, calle, numero]  # 0 o mas filas\n",
    "\txx = concat(xx,a,b)\n",
    "\"\"\""
   ]
  },
  {
   "cell_type": "code",
   "execution_count": 42,
   "metadata": {},
   "outputs": [
    {
     "data": {
      "text/plain": [
       "259"
      ]
     },
     "execution_count": 42,
     "metadata": {},
     "output_type": "execute_result"
    }
   ],
   "source": [
    "dfCuit = pd.merge(df2, df1, on='CUIT')\n",
    "#dfCuit = dfCuit.drop_duplicates(subset=['id_tramite'])\n",
    "\n",
    "dfCuit[\"validUniqueId\"] = dfCuit[\"UniqueId_x\"] == dfCuit[\"UniqueId_y\"]\n",
    "len(dfCuit[\"CUIT\"].unique())"
   ]
  },
  {
   "cell_type": "code",
   "execution_count": 40,
   "metadata": {},
   "outputs": [],
   "source": [
    "dfCuit.to_excel(r\"C:\\Users\\agosa\\OneDrive\\Documents\\GitHub\\WorkSpace\\join-tables-5-11\\data\\dfCuit.xlsx\")"
   ]
  },
  {
   "cell_type": "code",
   "execution_count": 30,
   "metadata": {},
   "outputs": [],
   "source": [
    "arts = dfCuit[dfCuit[\"validUniqueId\"] == True]"
   ]
  },
  {
   "cell_type": "code",
   "execution_count": 31,
   "metadata": {},
   "outputs": [
    {
     "data": {
      "text/plain": [
       "475"
      ]
     },
     "execution_count": 31,
     "metadata": {},
     "output_type": "execute_result"
    }
   ],
   "source": [
    "arts = arts.drop_duplicates(subset=['id_tramite'])\n",
    "len(arts)"
   ]
  },
  {
   "attachments": {},
   "cell_type": "markdown",
   "metadata": {},
   "source": [
    "# final clean"
   ]
  },
  {
   "cell_type": "code",
   "execution_count": 35,
   "metadata": {},
   "outputs": [],
   "source": [
    "import pandas as pd\n",
    "url = r\"../activa/data/dfCuit.xlsx\"\n",
    "df = pd.read_excel(url)"
   ]
  },
  {
   "cell_type": "code",
   "execution_count": 36,
   "metadata": {},
   "outputs": [
    {
     "data": {
      "text/plain": [
       "538"
      ]
     },
     "execution_count": 36,
     "metadata": {},
     "output_type": "execute_result"
    }
   ],
   "source": [
    "dfx = df[df[\"rt\"] == 1].copy()\n",
    "dfx = dfx.drop_duplicates(subset=['id_tramite'])\n",
    "len(dfx)"
   ]
  },
  {
   "cell_type": "code",
   "execution_count": 34,
   "metadata": {},
   "outputs": [],
   "source": [
    "dfx.to_excel(r\"../activa/data/data538.xlsx\")"
   ]
  }
 ],
 "metadata": {
  "kernelspec": {
   "display_name": "venv",
   "language": "python",
   "name": "venv"
  },
  "language_info": {
   "codemirror_mode": {
    "name": "ipython",
    "version": 3
   },
   "file_extension": ".py",
   "mimetype": "text/x-python",
   "name": "python",
   "nbconvert_exporter": "python",
   "pygments_lexer": "ipython3",
   "version": "3.10.5"
  },
  "orig_nbformat": 4
 },
 "nbformat": 4,
 "nbformat_minor": 2
}
