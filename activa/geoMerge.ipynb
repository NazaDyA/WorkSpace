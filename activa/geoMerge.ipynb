{
 "cells": [
  {
   "attachments": {},
   "cell_type": "markdown",
   "metadata": {},
   "source": [
    "# Data"
   ]
  },
  {
   "cell_type": "code",
   "execution_count": 63,
   "metadata": {},
   "outputs": [],
   "source": [
    "import pandas as pd\n",
    "url1 = r\"../activa/data/hol_listado_empresas.xlsx\"\n",
    "url2 = r\"../activa/data/Activa_listado.xlsx\"\n",
    "df1 = pd.read_excel(url1)\n",
    "df2 = pd.read_excel(url2,sheet_name=1)"
   ]
  },
  {
   "attachments": {},
   "cell_type": "markdown",
   "metadata": {},
   "source": [
    "# Modules & functions"
   ]
  },
  {
   "cell_type": "code",
   "execution_count": 64,
   "metadata": {},
   "outputs": [],
   "source": [
    "def cleanString(x:str):\n",
    "    x = x.split(\" \")\n",
    "    rt = []\n",
    "    for i in x:\n",
    "        if len(i)<=4:\n",
    "            continue\n",
    "        else:\n",
    "            rt.append(i)\n",
    "\n",
    "    return \"\".join(rt).strip()\n",
    "def str_clean(x):\n",
    "    data = []\n",
    "    index = 0\n",
    "\n",
    "    for i in x:\n",
    "        if i == \"_\" or i== \"-\":\n",
    "            continue\n",
    "        else:\n",
    "            data.append(i)\n",
    "    return \"\".join(data)\n",
    "def getNumber(x:str):\n",
    "    x = x.strip()\n",
    "    x = x.split()\n",
    "    return x[-1]\n",
    "import re\n",
    "def digitStract(x:str):\n",
    "    try:\n",
    "        return re.findall(r'\\d+', x)[0]\n",
    "    except:\n",
    "        return \"0000\""
   ]
  },
  {
   "cell_type": "code",
   "execution_count": 65,
   "metadata": {},
   "outputs": [],
   "source": [
    "from geoCodeOSM import (\n",
    "    geoCodeLat,\n",
    "    geoCodeLon,\n",
    "    geoCodeLatLon\n",
    ")"
   ]
  },
  {
   "attachments": {},
   "cell_type": "markdown",
   "metadata": {},
   "source": [
    "# Last Date-Auth"
   ]
  },
  {
   "cell_type": "code",
   "execution_count": 66,
   "metadata": {},
   "outputs": [
    {
     "name": "stderr",
     "output_type": "stream",
     "text": [
      "C:\\Users\\Usuario\\AppData\\Local\\Temp\\ipykernel_10892\\1890085460.py:34: SettingWithCopyWarning: \n",
      "A value is trying to be set on a copy of a slice from a DataFrame\n",
      "\n",
      "See the caveats in the documentation: https://pandas.pydata.org/pandas-docs/stable/user_guide/indexing.html#returning-a-view-versus-a-copy\n",
      "  df1[\"last-date\"][i] = locationDate[r]\n"
     ]
    }
   ],
   "source": [
    "df2[\"UniqueId\"] = df2[\"DIRECCIÓN\"].map(digitStract) + \"-\"+ df2[\"CUIT\"].astype(str)\n",
    "\n",
    "df1[\"cuitempresa\"] = df1[\"cuitempresa\"].map(str_clean)\n",
    "df1.columns = ['id_tramite', 'FechaHabAprobada', 'Calle', 'Numero', 'Barrio',\n",
    "       'FechaVencimientoHab', 'CUIT', 'razonsocial', 'NombreFantasia',\n",
    "       'RubroNombre']\n",
    "df1[\"UniqueId\"] = df1[\"Numero\"].map(digitStract) + \"-\"+ df1[\"CUIT\"].astype(str)\n",
    "\n",
    "\n",
    "\n",
    "df1[\"CUIT\"] = df1[\"CUIT\"].map(str_clean)\n",
    "df2[\"CUIT\"] = df2[\"CUIT\"].map(lambda x: str(x)).map(str_clean)\n",
    "\n",
    "\n",
    "# obtain last date in authorization date\n",
    "\n",
    "df1[\"location-ID\"] = df1[\"Calle\"] + \" \" + df1[\"Numero\"].astype(str) + \" \" + df1[\"CUIT\"].astype(str)\n",
    "df1[\"FechaVencimientoHab\"] = df1[\"FechaVencimientoHab\"].astype(\"datetime64[D]\")\n",
    "df1[\"last-date\"] = 0\n",
    "\n",
    "locationDate = {}\n",
    "\n",
    "for i in df1[\"location-ID\"].unique():\n",
    "    subset = df1[df1[\"location-ID\"] == i]\n",
    "    if subset[\"FechaVencimientoHab\"].max():\n",
    "        locationDate[i] = subset[\"FechaVencimientoHab\"].max()\n",
    "    else:\n",
    "        locationDate[i] = subset[\"FechaVencimientoHab\"][0]\n",
    "locationDate\n",
    "\n",
    "for i in range(len(df1)):\n",
    "    r = df1[\"location-ID\"][i]\n",
    "    if r in locationDate.keys():\n",
    "        df1[\"last-date\"][i] = locationDate[r]"
   ]
  },
  {
   "attachments": {},
   "cell_type": "markdown",
   "metadata": {},
   "source": [
    "# Add Lat-Lon "
   ]
  },
  {
   "cell_type": "code",
   "execution_count": 67,
   "metadata": {},
   "outputs": [
    {
     "ename": "IndexError",
     "evalue": "list index out of range",
     "output_type": "error",
     "traceback": [
      "\u001b[1;31m---------------------------------------------------------------------------\u001b[0m",
      "\u001b[1;31mIndexError\u001b[0m                                Traceback (most recent call last)",
      "\u001b[1;32mc:\\Users\\Usuario\\Desktop\\Code\\WorkSpace\\activa\\geoMerge.ipynb Cell 9\u001b[0m in \u001b[0;36m<cell line: 2>\u001b[1;34m()\u001b[0m\n\u001b[0;32m      <a href='vscode-notebook-cell:/c%3A/Users/Usuario/Desktop/Code/WorkSpace/activa/geoMerge.ipynb#X10sZmlsZQ%3D%3D?line=0'>1</a>\u001b[0m df1[\u001b[39m\"\u001b[39m\u001b[39mAddress\u001b[39m\u001b[39m\"\u001b[39m] \u001b[39m=\u001b[39m df1[\u001b[39m\"\u001b[39m\u001b[39mCalle\u001b[39m\u001b[39m\"\u001b[39m] \u001b[39m+\u001b[39m \u001b[39m\"\u001b[39m\u001b[39m \u001b[39m\u001b[39m\"\u001b[39m \u001b[39m+\u001b[39m df1[\u001b[39m\"\u001b[39m\u001b[39mNumero\u001b[39m\u001b[39m\"\u001b[39m]\u001b[39m.\u001b[39mastype(\u001b[39mstr\u001b[39m) \u001b[39m+\u001b[39m \u001b[39m\"\u001b[39m\u001b[39m, \u001b[39m\u001b[39m\"\u001b[39m \u001b[39m+\u001b[39m \u001b[39m\"\u001b[39m\u001b[39mCórdoba,\u001b[39m\u001b[39m\"\u001b[39m \u001b[39m+\u001b[39m \u001b[39m\"\u001b[39m\u001b[39m \u001b[39m\u001b[39m\"\u001b[39m \u001b[39m+\u001b[39m \u001b[39m\"\u001b[39m\u001b[39mArgentina\u001b[39m\u001b[39m\"\u001b[39m\n\u001b[1;32m----> <a href='vscode-notebook-cell:/c%3A/Users/Usuario/Desktop/Code/WorkSpace/activa/geoMerge.ipynb#X10sZmlsZQ%3D%3D?line=1'>2</a>\u001b[0m df1[\u001b[39m\"\u001b[39m\u001b[39mLatLon\u001b[39m\u001b[39m\"\u001b[39m] \u001b[39m=\u001b[39m df1[\u001b[39m\"\u001b[39;49m\u001b[39mAddress\u001b[39;49m\u001b[39m\"\u001b[39;49m]\u001b[39m.\u001b[39;49mmap(geoCodeLatLon)\n",
      "File \u001b[1;32mc:\\Users\\Usuario\\AppData\\Local\\Programs\\Python\\Python310\\lib\\site-packages\\pandas\\core\\series.py:4237\u001b[0m, in \u001b[0;36mSeries.map\u001b[1;34m(self, arg, na_action)\u001b[0m\n\u001b[0;32m   4162\u001b[0m \u001b[39mdef\u001b[39;00m \u001b[39mmap\u001b[39m(\u001b[39mself\u001b[39m, arg, na_action\u001b[39m=\u001b[39m\u001b[39mNone\u001b[39;00m) \u001b[39m-\u001b[39m\u001b[39m>\u001b[39m Series:\n\u001b[0;32m   4163\u001b[0m     \u001b[39m\"\"\"\u001b[39;00m\n\u001b[0;32m   4164\u001b[0m \u001b[39m    Map values of Series according to an input mapping or function.\u001b[39;00m\n\u001b[0;32m   4165\u001b[0m \n\u001b[1;32m   (...)\u001b[0m\n\u001b[0;32m   4235\u001b[0m \u001b[39m    dtype: object\u001b[39;00m\n\u001b[0;32m   4236\u001b[0m \u001b[39m    \"\"\"\u001b[39;00m\n\u001b[1;32m-> 4237\u001b[0m     new_values \u001b[39m=\u001b[39m \u001b[39mself\u001b[39;49m\u001b[39m.\u001b[39;49m_map_values(arg, na_action\u001b[39m=\u001b[39;49mna_action)\n\u001b[0;32m   4238\u001b[0m     \u001b[39mreturn\u001b[39;00m \u001b[39mself\u001b[39m\u001b[39m.\u001b[39m_constructor(new_values, index\u001b[39m=\u001b[39m\u001b[39mself\u001b[39m\u001b[39m.\u001b[39mindex)\u001b[39m.\u001b[39m__finalize__(\n\u001b[0;32m   4239\u001b[0m         \u001b[39mself\u001b[39m, method\u001b[39m=\u001b[39m\u001b[39m\"\u001b[39m\u001b[39mmap\u001b[39m\u001b[39m\"\u001b[39m\n\u001b[0;32m   4240\u001b[0m     )\n",
      "File \u001b[1;32mc:\\Users\\Usuario\\AppData\\Local\\Programs\\Python\\Python310\\lib\\site-packages\\pandas\\core\\base.py:880\u001b[0m, in \u001b[0;36mIndexOpsMixin._map_values\u001b[1;34m(self, mapper, na_action)\u001b[0m\n\u001b[0;32m    877\u001b[0m         \u001b[39mraise\u001b[39;00m \u001b[39mValueError\u001b[39;00m(msg)\n\u001b[0;32m    879\u001b[0m \u001b[39m# mapper is a function\u001b[39;00m\n\u001b[1;32m--> 880\u001b[0m new_values \u001b[39m=\u001b[39m map_f(values, mapper)\n\u001b[0;32m    882\u001b[0m \u001b[39mreturn\u001b[39;00m new_values\n",
      "File \u001b[1;32mc:\\Users\\Usuario\\AppData\\Local\\Programs\\Python\\Python310\\lib\\site-packages\\pandas\\_libs\\lib.pyx:2870\u001b[0m, in \u001b[0;36mpandas._libs.lib.map_infer\u001b[1;34m()\u001b[0m\n",
      "File \u001b[1;32mc:\\Users\\Usuario\\Desktop\\Code\\WorkSpace\\activa\\geoCodeOSM.py:30\u001b[0m, in \u001b[0;36mgeoCodeLatLon\u001b[1;34m(address)\u001b[0m\n\u001b[0;32m     28\u001b[0m url \u001b[39m=\u001b[39m \u001b[39m'\u001b[39m\u001b[39mhttps://nominatim.openstreetmap.org/search/\u001b[39m\u001b[39m'\u001b[39m \u001b[39m+\u001b[39m urllib\u001b[39m.\u001b[39mparse\u001b[39m.\u001b[39mquote(address) \u001b[39m+\u001b[39m\u001b[39m'\u001b[39m\u001b[39m?format=json\u001b[39m\u001b[39m'\u001b[39m\n\u001b[0;32m     29\u001b[0m response \u001b[39m=\u001b[39m requests\u001b[39m.\u001b[39mget(url)\u001b[39m.\u001b[39mjson()\n\u001b[1;32m---> 30\u001b[0m \u001b[39mreturn\u001b[39;00m \u001b[39mf\u001b[39m\u001b[39m'\u001b[39m\u001b[39m{\u001b[39;00mresponse[\u001b[39m0\u001b[39m][\u001b[39m\"\u001b[39m\u001b[39mlat\u001b[39m\u001b[39m\"\u001b[39m]\u001b[39m}\u001b[39;00m\u001b[39m - \u001b[39m\u001b[39m{\u001b[39;00mresponse[\u001b[39m0\u001b[39m][\u001b[39m\"\u001b[39m\u001b[39mlon\u001b[39m\u001b[39m\"\u001b[39m]\u001b[39m}\u001b[39;00m\u001b[39m'\u001b[39m\n",
      "\u001b[1;31mIndexError\u001b[0m: list index out of range"
     ]
    }
   ],
   "source": [
    "df1[\"Address\"] = df1[\"Calle\"] + \" \" + df1[\"Numero\"].astype(str) + \", \" + \"Córdoba,\" + \" \" + \"Argentina\"\n",
    "df1[\"LatLon\"] = df1[\"Address\"].map(geoCodeLatLon)"
   ]
  },
  {
   "attachments": {},
   "cell_type": "markdown",
   "metadata": {},
   "source": [
    "# Merge"
   ]
  },
  {
   "cell_type": "code",
   "execution_count": null,
   "metadata": {},
   "outputs": [],
   "source": [
    "dfCuit = pd.merge(df2, df1, on='CUIT')\n",
    "#dfCuit = dfCuit.drop_duplicates(subset=['id_tramite'])\n",
    "\n",
    "dfCuit[\"validUniqueId\"] = dfCuit[\"UniqueId_x\"] == dfCuit[\"UniqueId_y\"]"
   ]
  },
  {
   "attachments": {},
   "cell_type": "markdown",
   "metadata": {},
   "source": [
    "# Using Google GeoCode"
   ]
  },
  {
   "cell_type": "code",
   "execution_count": null,
   "metadata": {},
   "outputs": [
    {
     "data": {
      "text/plain": [
       "32268"
      ]
     },
     "execution_count": 61,
     "metadata": {},
     "output_type": "execute_result"
    }
   ],
   "source": [
    "\"\"\"\n",
    "import pandas as pd\n",
    "url1 = r\"../activa/data/hol_listado_empresas.xlsx\"\n",
    "df1 = pd.read_excel(url1)\n",
    "\n",
    "df1[\"Address\"] = df1[\"Calle\"] + \" \" + df1[\"Numero\"].astype(str) + \", \" + \"Córdoba,\" + \" \" + \"Argentina\"\n",
    "df1 = df1.drop_duplicates(subset=['Address'])\n",
    "df1.to_excel(r\"../activa/data/toGeo.xlsx\")\n",
    "\n",
    "len(df1)\n",
    "\n",
    "#900 calls in one day // no factibe\n",
    "\n",
    "\"\"\""
   ]
  }
 ],
 "metadata": {
  "kernelspec": {
   "display_name": "venv",
   "language": "python",
   "name": "venv"
  },
  "language_info": {
   "codemirror_mode": {
    "name": "ipython",
    "version": 3
   },
   "file_extension": ".py",
   "mimetype": "text/x-python",
   "name": "python",
   "nbconvert_exporter": "python",
   "pygments_lexer": "ipython3",
   "version": "3.10.5"
  },
  "orig_nbformat": 4
 },
 "nbformat": 4,
 "nbformat_minor": 2
}
