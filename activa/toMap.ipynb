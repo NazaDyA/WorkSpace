{
 "cells": [
  {
   "attachments": {},
   "cell_type": "markdown",
   "metadata": {},
   "source": [
    "## Data"
   ]
  },
  {
   "attachments": {},
   "cell_type": "markdown",
   "metadata": {},
   "source": [
    "- Se obtuvo por un proceso de merge de 2 bases de datos el excel dfCuit el cual fue tratado manualmente para casos de coincidencias NO exactas.\n",
    "- Se empleó la librería 'fuzzywuzzy' para calcular las probabilidades de que las razones sociales tanto como las direcciones dieran una coincidencia\n",
    "- Se agregó una columna en la cual se identifica a las 'E-Commerce'\n",
    "- Se agregó una columna en la que se identifica cuales direcciones no pertenecen a la ciudad. todas terminan con un paréntesis de cierre.\n",
    "- Se agregó una columna en la cual se identifica el iltimo 'id_tramite'\n"
   ]
  },
  {
   "cell_type": "code",
   "execution_count": null,
   "metadata": {},
   "outputs": [],
   "source": [
    "#pip install fuzzywuzzy"
   ]
  },
  {
   "cell_type": "code",
   "execution_count": 67,
   "metadata": {},
   "outputs": [
    {
     "name": "stderr",
     "output_type": "stream",
     "text": [
      "C:\\Users\\Usuario\\AppData\\Local\\Temp\\ipykernel_2964\\4272864501.py:56: SettingWithCopyWarning: \n",
      "A value is trying to be set on a copy of a slice from a DataFrame\n",
      "\n",
      "See the caveats in the documentation: https://pandas.pydata.org/pandas-docs/stable/user_guide/indexing.html#returning-a-view-versus-a-copy\n",
      "  df[\"lastId_Tramite\"][i] = lastId_Tramite[r]\n"
     ]
    }
   ],
   "source": [
    "import pandas as pd\n",
    "from laxFz import laxFz\n",
    "\n",
    "url = r\"../activa/data/dfCuit.xlsx\"\n",
    "df = pd.read_excel(url)\n",
    "\n",
    "\n",
    "x = df[\"RAZON SOCIAL\"].to_list()\n",
    "y = df[\"razonsocial\"].to_list()\n",
    "\n",
    "arr = [laxFz(x[i],y[i]) for i in range(len(x))]\n",
    "\n",
    "df[\"Pr(RAZONSOCIAL=razonsocial)\"] = arr\n",
    "\n",
    "x = df[\"DIRECCIÓN\"].to_list()\n",
    "y = (df[\"Calle\"]+ \" \" + df[\"Numero\"]).to_list()\n",
    "\n",
    "arr = [laxFz(x[i],y[i]) for i in range(len(x))]\n",
    "\n",
    "df[\"Pr(DIRECCIÓN=Calle + Num)\"] = arr\n",
    "\n",
    "df[\"E-Commerce\"] = df[\"DIRECCIÓN\"].map(lambda x: x==\"E-Commerce\")\n",
    "df[\"No-Cba\"] = df[\"DIRECCIÓN\"].map(lambda x: x.strip()[-1]==\")\")\n",
    "\n",
    "\n",
    "#identificacion de E-Commerce\n",
    "def eCommerceUnique(row):\n",
    "    if row['DIRECCIÓN'] == 'E-Commerce':\n",
    "        return row['DIRECCIÓN'] + str(row['CUIT'])\n",
    "    else:\n",
    "        return row['DIRECCIÓN']\n",
    "\n",
    "df['DIRECCIÓN'] = df.apply(eCommerceUnique, axis=1)\n",
    "\n",
    "\n",
    "#add ast_id_Tramite\n",
    "\n",
    "\n",
    "lastId_Tramite = {}\n",
    "\n",
    "df[\"lastId_Tramite\"] = 0\n",
    "\n",
    "dfc = df[df[\"rt\"] == 1]\n",
    "\n",
    "\n",
    "for i in dfc[\"DIRECCIÓN\"].unique():\n",
    "    subset = dfc[dfc[\"DIRECCIÓN\"] == i]\n",
    "    if subset[\"id_tramite\"].max():\n",
    "        lastId_Tramite[i] = subset[\"id_tramite\"].max()\n",
    "    else:\n",
    "        lastId_Tramite[i] = subset[\"id_tramite\"][0]\n",
    "\n",
    "for i in range(len(df)):\n",
    "    r = df[\"DIRECCIÓN\"][i]\n",
    "    if r in lastId_Tramite.keys():\n",
    "        df[\"lastId_Tramite\"][i] = lastId_Tramite[r]"
   ]
  },
  {
   "attachments": {},
   "cell_type": "markdown",
   "metadata": {},
   "source": [
    "Excel para plot"
   ]
  },
  {
   "cell_type": "code",
   "execution_count": 69,
   "metadata": {},
   "outputs": [
    {
     "data": {
      "text/plain": [
       "402"
      ]
     },
     "execution_count": 69,
     "metadata": {},
     "output_type": "execute_result"
    }
   ],
   "source": [
    "dfk = df[df[\"rt\"] == 1]\n",
    "dfk = dfk.drop_duplicates(subset=\"ID\").drop_duplicates(subset=\"DIRECCIÓN\")\n",
    "dfk.to_excel(r\"../activa/data/ActivaToplot.xlsx\")\n",
    "len(dfk)\n"
   ]
  },
  {
   "attachments": {},
   "cell_type": "markdown",
   "metadata": {},
   "source": [
    "general excel"
   ]
  },
  {
   "cell_type": "code",
   "execution_count": 73,
   "metadata": {},
   "outputs": [
    {
     "data": {
      "text/plain": [
       "504"
      ]
     },
     "execution_count": 73,
     "metadata": {},
     "output_type": "execute_result"
    }
   ],
   "source": [
    "dfk = df.copy()\n",
    "dfk = dfk.drop_duplicates(subset=\"ID\").drop_duplicates(subset=\"DIRECCIÓN\")\n",
    "dfk.to_excel(r\"../activa/data/ActivaGeneral.xlsx\")\n",
    "len(dfk)"
   ]
  },
  {
   "cell_type": "code",
   "execution_count": 71,
   "metadata": {},
   "outputs": [
    {
     "data": {
      "text/plain": [
       "402"
      ]
     },
     "execution_count": 71,
     "metadata": {},
     "output_type": "execute_result"
    }
   ],
   "source": [
    "len(lastId_Tramite)"
   ]
  },
  {
   "attachments": {},
   "cell_type": "markdown",
   "metadata": {},
   "source": [
    "Lista de chequeo primario de Activa (ignorar callen que empiecen con número \"Ej: algunos casos de 9 de julio\")"
   ]
  },
  {
   "cell_type": "code",
   "execution_count": 18,
   "metadata": {},
   "outputs": [],
   "source": [
    "\n",
    "df[((df['UniqueId_x'] != df['UniqueId_y'])) & (df['rt'] == 1)].to_excel(r\"../activa/data/CheckActiva.xlsx\")"
   ]
  },
  {
   "attachments": {},
   "cell_type": "markdown",
   "metadata": {},
   "source": [
    "se trabajara para la descripcion con direcciones unicas correspondientes a la base de datos 'Activa'."
   ]
  },
  {
   "cell_type": "code",
   "execution_count": 2,
   "metadata": {},
   "outputs": [
    {
     "name": "stdout",
     "output_type": "stream",
     "text": [
      "direcciones unicas: 504 \n",
      "Fuera de Cba: 29\n",
      "E-Commerce: 4\n"
     ]
    }
   ],
   "source": [
    "\n",
    "dfUniqueDir = df.copy()\n",
    "dfUniqueDir[\"DIRECCIÓN\"]\n",
    "\n",
    "dfUniqueDir = df.drop_duplicates(\"DIRECCIÓN\")\n",
    "\n",
    "print(f'direcciones unicas: {len(dfUniqueDir)} ')\n",
    "print(f'Fuera de Cba: {dfUniqueDir[\"No-Cba\"].sum()}')\n",
    "print(f'E-Commerce: {dfUniqueDir[\"E-Commerce\"].sum()}')"
   ]
  },
  {
   "attachments": {},
   "cell_type": "markdown",
   "metadata": {},
   "source": [
    "Datos E-Commerce"
   ]
  },
  {
   "cell_type": "code",
   "execution_count": 3,
   "metadata": {},
   "outputs": [],
   "source": [
    "df[df[\"E-Commerce\"] == 1].to_excel(r\"../activa/data/dataECommerce.xlsx\")"
   ]
  },
  {
   "attachments": {},
   "cell_type": "markdown",
   "metadata": {},
   "source": [
    "Datos Fuera de Cba"
   ]
  },
  {
   "cell_type": "code",
   "execution_count": 4,
   "metadata": {},
   "outputs": [],
   "source": [
    "df[df[\"No-Cba\"] == 1].to_excel(r\"../activa/data/dataNoCba.xlsx\")"
   ]
  },
  {
   "attachments": {},
   "cell_type": "markdown",
   "metadata": {},
   "source": [
    "### datos para mapeo"
   ]
  },
  {
   "attachments": {},
   "cell_type": "markdown",
   "metadata": {},
   "source": [
    "en este caso de trabajara solo con los datos que en la verificacion tanto automatica como manual hayan obtenido 'True' en su verificacion, reasignado a la columna 'rt'. y su id_tramite sea UNICO."
   ]
  },
  {
   "cell_type": "code",
   "execution_count": 39,
   "metadata": {},
   "outputs": [
    {
     "data": {
      "text/plain": [
       "583"
      ]
     },
     "execution_count": 39,
     "metadata": {},
     "output_type": "execute_result"
    }
   ],
   "source": [
    "dfx = df[df[\"rt\"] == 1].copy()\n",
    "dfx = dfx.drop_duplicates(subset=['id_tramite'])\n",
    "dfx.to_excel(r\"../activa/data/coincidencias-ciut.xlsx\")\n",
    "len(dfx)"
   ]
  },
  {
   "attachments": {},
   "cell_type": "markdown",
   "metadata": {},
   "source": [
    "si bien el id de tramite es unico, se estan dupicando direcciones, lo cual es impractico para el mapeo. se quitaran direccines distintas."
   ]
  },
  {
   "cell_type": "code",
   "execution_count": 31,
   "metadata": {},
   "outputs": [
    {
     "name": "stdout",
     "output_type": "stream",
     "text": [
      "398\n",
      "515\n"
     ]
    }
   ],
   "source": [
    "dfx = dfx.drop_duplicates(subset=['DIRECCIÓN'])\n",
    "dfx.to_excel(r\"../activa/data/coincidencias-ciut-direccion-unica.xlsx\")"
   ]
  },
  {
   "cell_type": "code",
   "execution_count": 22,
   "metadata": {},
   "outputs": [],
   "source": [
    "dr = pd.read_excel(r'C:\\Users\\Usuario\\Desktop\\Code\\WorkSpace\\activa\\data\\Activa_listado.xlsx',sheet_name=1)"
   ]
  }
 ],
 "metadata": {
  "kernelspec": {
   "display_name": "venv",
   "language": "python",
   "name": "venv"
  },
  "language_info": {
   "codemirror_mode": {
    "name": "ipython",
    "version": 3
   },
   "file_extension": ".py",
   "mimetype": "text/x-python",
   "name": "python",
   "nbconvert_exporter": "python",
   "pygments_lexer": "ipython3",
   "version": "3.10.5"
  },
  "orig_nbformat": 4
 },
 "nbformat": 4,
 "nbformat_minor": 2
}
